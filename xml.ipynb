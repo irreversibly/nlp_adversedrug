{
 "cells": [
  {
   "cell_type": "code",
   "execution_count": 44,
   "metadata": {
    "collapsed": true
   },
   "outputs": [],
   "source": [
    "import untangle\n",
    "import glob"
   ]
  },
  {
   "cell_type": "code",
   "execution_count": 49,
   "metadata": {
    "collapsed": true
   },
   "outputs": [],
   "source": [
    "def parse_xml(filename):\n",
    "    \"\"\"\n",
    "    @input a filename string\n",
    "    @return:\n",
    "    1. For training data: both a dictionary (key is the section) for X (text strings) and a list of dictionary for y \n",
    "        (keys: id (not for task 1), section, type, start, len)\n",
    "    2. For test data: only a list of X\n",
    "    \"\"\"\n",
    "    X = {}\n",
    "    Y = []\n",
    "    \n",
    "    obj = untangle.parse(filename)\n",
    "    for text in obj.Label.Text.Section:\n",
    "        X[text['id']] = text.cdata\n",
    "        \n",
    "    if obj.Label.Mentions.Mention:\n",
    "        for mention in obj.Label.Mentions.Mention:\n",
    "            entity = {}\n",
    "            entity['id'] = mention['id']\n",
    "            entity['section'] = mention['section']\n",
    "            entity['type'] = mention['type']\n",
    "            entity['start'] = mention['start']\n",
    "            entity['len'] = mention['len']\n",
    "            Y.append(entity)\n",
    "            \n",
    "    return X, Y"
   ]
  },
  {
   "cell_type": "markdown",
   "metadata": {},
   "source": [
    "# test"
   ]
  },
  {
   "cell_type": "code",
   "execution_count": 52,
   "metadata": {},
   "outputs": [],
   "source": [
    "filename = '/Users/xuanzhu/Documents/data/train_xml/ADCETRIS.xml'\n",
    "X, Y = parse_xml(filename)"
   ]
  },
  {
   "cell_type": "code",
   "execution_count": 55,
   "metadata": {},
   "outputs": [
    {
     "data": {
      "text/plain": [
       "[u'S3', u'S2', u'S1']"
      ]
     },
     "execution_count": 55,
     "metadata": {},
     "output_type": "execute_result"
    }
   ],
   "source": [
    "X.keys()"
   ]
  },
  {
   "cell_type": "code",
   "execution_count": 58,
   "metadata": {},
   "outputs": [
    {
     "data": {
      "text/plain": [
       "u'    6 ADVERSE REACTIONS\\n\\n  The following serious adverse reactions are discussed in greater detail in other sections of the prescribing information:\\n\\n\\n\\n *  Peripheral Neuropathy [see  Warnings and Precautions (      5.1      )  ]  \\n *  Anaphylaxis and Infusion Reactions [see  Warnings and Precautions (      5.2      )  ]  \\n *  Hematologic Toxicities [see  Warnings and Precautions (      5.3      )  ]  \\n *  Serious Infections and Opportunistic Infections [see  Warnings and Precautions (      5.4      )  ]  \\n *  Tumor Lysis Syndrome [see  Warnings and Precautions (      5.5      )  ]  \\n *  Increased Toxicity in the Presence of Severe Renal Impairment [see  Warnings and Precautions (      5.6      )  ]  \\n *  Increased Toxicity in the Presence of Moderate or Severe Hepatic Impairment [see  Warnings and Precautions (      5.7      )  ]  \\n *  Hepatotoxicity [see  Warnings and Precautions (      5.8      )  ]  \\n *  Progressive Multifocal Leukoencephalopathy [see  Warnings and Precautions (      5.9      )  ]  \\n *  Pulmonary Toxicity [see  Warnings and Precautions (5.10)  ]  \\n *  Serious Dermatologic Reactions [see  Warnings and Precautions (5.11)    ]   \\n      EXCERPT:   The most common adverse reactions (>=20%) were:\\n \\n\\n *  Relapsed classical HL and relapsed sALCL: neutropenia, peripheral sensory neuropathy, fatigue, nausea, anemia, upper respiratory tract infection, diarrhea, pyrexia, rash, thrombocytopenia, cough, and vomiting  (6.1)  . \\n *  Classical HL post-auto-HSCT consolidation: neutropenia, peripheral sensory neuropathy, thrombocytopenia, anemia, upper respiratory tract infection, fatigue, peripheral motor neuropathy, nausea, cough, and diarrhea  (6.1)  . \\n      To report SUSPECTED ADVERSE REACTIONS, contact Seattle Genetics, Inc. at 1-855-473-2436 or FDA at 1-800-FDA-1088 or www.fda.gov/medwatch.  \\n \\n\\n \\n\\n  6.1 Clinical Trial Experience\\n\\n  Because clinical trials are conducted under widely varying conditions, adverse reaction rates observed in clinical trials of a drug cannot be directly compared to rates in the clinical trials of another drug and may not reflect the rates observed in practice.\\n\\n\\n\\n The data below reflect exposure to ADCETRIS as monotherapy in 327 patients with classical Hodgkin lymphoma (HL) and systemic anaplastic large cell lymphoma (sALCL), including 160 patients in two uncontrolled single-arm trials (Studies 1 and 2) and 167 patients in one placebo-controlled randomized trial (Study 3).\\n\\n\\n\\n In Studies 1 and 2, the most common adverse reactions (>=20%), regardless of causality, were neutropenia, peripheral sensory neuropathy, fatigue, nausea, anemia, upper respiratory tract infection, diarrhea, pyrexia, rash, thrombocytopenia, cough, and vomiting. The most common adverse reactions occurring in at least 10% of patients in either Study 1 or 2, regardless of causality, using the NCI Common Toxicity Criteria (CTC) Version 3.0, are shown in   Table 2  .\\n\\n\\n\\n In Study 3, the most common adverse reactions (>=20%) in the ADCETRIS-treatment arm, regardless of causality, were neutropenia, peripheral sensory neuropathy, thrombocytopenia, anemia, upper respiratory tract infection, fatigue, peripheral motor neuropathy, nausea, cough, and diarrhea. The most common adverse reactions occurring in at least 10% of patients, using the NCI CTC Version 4, are shown in  Table 3  .\\n\\n\\n\\n   Experience in Classical Hodgkin Lymphoma  \\n\\n\\n\\n     Summary of Clinical Trial Experience in Relapsed Classical HL (Study 1)    \\n\\n\\n\\n ADCETRIS was studied in 102 patients with classical HL in a single arm clinical trial in which the recommended starting dose and schedule was 1.8 mg/kg intravenously every 3 weeks. Median duration of treatment was 9 cycles (range, 1-16)  [see  Clinical Studies (        14.1        )  ]  .\\n\\n\\n\\n The most common adverse reactions (>=20%), regardless of causality, were neutropenia, peripheral sensory neuropathy, fatigue, upper respiratory tract infection, nausea, diarrhea, anemia, pyrexia, thrombocytopenia, rash, abdominal pain, cough, and vomiting.\\n\\n\\n\\n     Summary of Clinical Trial Experience in Classical HL Post-auto-HSCT Consolidation (Study 3)    \\n\\n\\n\\n ADCETRIS was studied in 329 patients with classical HL at high risk of relapse or progression post-auto-HSCT in a randomized, double-blind, placebo-controlled clinical trial in which the recommended starting dose and schedule was 1.8 mg/kg of ADCETRIS administered intravenously over 30 minutes every 3 weeks or placebo for up to 16 cycles. Of the 329 enrolled patients, 327 (167 brentuximab vedotin, 160 placebo) received at least one dose of study treatment. The median number of treatment cycles in each study arm was 15 (range, 1-16) and 80 patients (48%) in the ADCETRIS-treatment arm received 16 cycles  [see  Clinical Studies (        14.1        )  ]  .\\n\\n\\n\\n Standard international guidelines were followed for infection prophylaxis for herpes simplex virus (HSV), varicella-zoster virus (VZV), and  Pneumocystis jiroveci  pneumonia (PCP) post-auto-HSCT. Overall, 312 patients (95%) received HSV and VZV prophylaxis with a median duration of 11.1 months (range, 0-20) and 319 patients (98%) received PCP prophylaxis with a median duration of 6.5 months (range, 0-20).\\n\\n\\n\\n   Experience in Systemic Anaplastic Large Cell Lymphoma  \\n\\n\\n\\n     Summary of Clinical Trial Experience in Relapsed sALCL (Study 2)    \\n\\n\\n\\n ADCETRIS was studied in 58 patients with sALCL in a single arm clinical trial in which the recommended starting dose and schedule was 1.8 mg/kg intravenously every 3 weeks. Median duration of treatment was 7 cycles (range, 1-16)  [see  Clinical Studies (        14.2        )  ]  .\\n\\n\\n\\n The most common adverse reactions (>=20%), regardless of causality, were neutropenia, anemia, peripheral sensory neuropathy, fatigue, nausea, pyrexia, rash, diarrhea, and pain.\\n\\n\\n\\n Table 2: Most Commonly Reported (>=10%) Adverse Reactions in Studies 1 and 2 \\n                                                 Classical HL  sALCL       \\n                                                 Total N = 102% of patients  Total N = 58% of patients   \\n Adverse Reaction                                AnyGrade   Grade3     Grade4     AnyGrade   Grade3     Grade4      \\n   Blood and lymphatic system disorders                                                                             \\n     Neutropenia                                 54         15         6          55         12         9           \\n     Anemia                                      33         8          2          52         2          -           \\n     Thrombocytopenia                            28         7          2          16         5          5           \\n     Lymphadenopathy                             11         -          -          10         -          -           \\n   Nervous system disorders                                                                                         \\n     Peripheral sensory neuropathy               52         8          -          53         10         -           \\n     Peripheral motor neuropathy                 16         4          -          7          3          -           \\n     Headache                                    19         -          -          16         2          -           \\n     Dizziness                                   11         -          -          16         -          -           \\n   General disorders and administration site conditions                                                                       \\n     Fatigue                                     49         3          -          41         2          2           \\n     Pyrexia                                     29         2          -          38         2          -           \\n     Chills                                      13         -          -          12         -          -           \\n     Pain                                        7          -          -          28         -          5           \\n     Edema peripheral                            4          -          -          16         -          -           \\n   Infections and infestations                                                                                      \\n     Upper respiratory tract infection           47         -          -          12         -          -           \\n   Gastrointestinal disorders                                                                                       \\n     Nausea                                      42         -          -          38         2          -           \\n     Diarrhea                                    36         1          -          29         3          -           \\n     Abdominal pain                              25         2          1          9          2          -           \\n     Vomiting                                    22         -          -          17         3          -           \\n     Constipation                                16         -          -          19         2          -           \\n   Skin and subcutaneous tissue disorders                                                                           \\n     Rash                                        27         -          -          31         -          -           \\n     Pruritus                                    17         -          -          19         -          -           \\n     Alopecia                                    13         -          -          14         -          -           \\n     Night sweats                                12         -          -          9          -          -           \\n     Dry skin                                    4          -          -          10         -          -           \\n   Respiratory, thoracic and mediastinal disorders                                                                       \\n     Cough                                       25         -          -          17         -          -           \\n     Dyspnea                                     13         1          -          19         2          -           \\n     Oropharyngeal pain                          11         -          -          9          -          -           \\n   Musculoskeletal and connective tissue disorders                                                                       \\n     Arthralgia                                  19         -          -          9          -          -           \\n     Myalgia                                     17         -          -          16         2          -           \\n     Back pain                                   14         -          -          10         2          -           \\n     Pain in extremity                           10         -          -          10         2          2           \\n     Muscle spasms                               9          -          -          10         2          -           \\n   Psychiatric disorders                                                                                            \\n     Insomnia                                    14         -          -          16         -          -           \\n     Anxiety                                     11         2          -          7          -          -           \\n   Metabolism and nutrition disorders                                                                               \\n     Decreased appetite                          11         -          -          16         2          -           \\n   Investigations                                                                                                   \\n     Weight decreased                            6          -          -          12         3          -           \\n     Table 3: Most Commonly Reported (>=10% in the ADCETRIS arm) Adverse Reactions in Study 3 \\n                                                 ADCETRIS   Placebo     \\n                                                 Total N = 167% of patients  Total N = 160% of patients   \\n Adverse Reaction                                AnyGrade   Grade3     Grade4     AnyGrade   Grade3     Grade4      \\n   Blood and lymphatic system disorders                                                                             \\n     Neutropenia                                 78         30         9          34         6          4           \\n     Thrombocytopenia                            41         2          4          20         3          2           \\n     Anemia                                      27         4          -          19         2          -           \\n   Nervous system disorders                                                                                         \\n     Peripheral sensory neuropathy               56         10         -          16         1          -           \\n     Peripheral motor neuropathy                 23         6          -          2          1          -           \\n     Headache                                    11         2          -          8          1          -           \\n   Infections and infestations                                                                                      \\n     Upper respiratory tract infection           26         -          -          23         1          -           \\n   General disorders and administration site conditions                                                                       \\n     Fatigue                                     24         2          -          18         3          -           \\n     Pyrexia                                     19         2          -          16         -          -           \\n     Chills                                      10         -          -          5          -          -           \\n   Gastrointestinal disorders                                                                                       \\n     Nausea                                      22         3          -          8          -          -           \\n     Diarrhea                                    20         2          -          10         1          -           \\n     Vomiting                                    16         2          -          7          -          -           \\n     Abdominal pain                              14         2          -          3          -          -           \\n     Constipation                                13         2          -          3          -          -           \\n   Respiratory, thoracic and mediastinal disorders                                                                       \\n     Cough                                       21         -          -          16         -          -           \\n     Dyspnea                                     13         -          -          6          -          1           \\n   Investigations                                                                                                   \\n     Weight decreased                            19         1          -          6          -          -           \\n   Musculoskeletal and connective tissue disorders                                                                       \\n     Arthralgia                                  18         1          -          9          -          -           \\n     Muscle spasms                               11         -          -          6          -          -           \\n     Myalgia                                     11         1          -          4          -          -           \\n   Skin and subcutaneous tissue disorders                                                                           \\n     Pruritus                                    12         1          -          8          -          -           \\n   Metabolism and nutrition disorders                                                                               \\n     Decreased appetite                          12         1          -          6          -          -           \\n        Additional Important Adverse Reactions  \\n \\n\\n   Peripheral neuropathy  \\n\\n\\n\\n In Studies 1 and 2, 54% of patients experienced any grade of neuropathy. Of these patients, 49% had complete resolution, 31% had partial improvement, and 20% had no improvement. Of the patients who reported neuropathy, 51% had residual neuropathy at the time of their last evaluation.\\n\\n\\n\\n In Study 3, 67% of patients treated with ADCETRIS experienced any grade of neuropathy. The median time to first onset of any grade was 14 weeks (range, 0.1-47), of Grade 2 was 27 weeks (range, 0.4-52) and of Grade 3 was 34 weeks (range, 7-106). The median time from onset to resolution or improvement of any grade was 23 weeks (range, 0.1-138), of Grade 2 was 24 weeks (range, 1-108) and of Grade 3 was 25 weeks (range, 2-98). Of the patients who reported neuropathy, 59% had complete resolution and 41% had residual neuropathy (26% partial improvement, 15% no improvement) at the time of their last evaluation.\\n\\n\\n\\n   Infusion reactions  \\n\\n\\n\\n Two cases of anaphylaxis were reported in the dose-finding trials. There were no Grade 3 or 4 infusion-related reactions reported in Studies 1 and 2; however, Grade 1 or 2 infusion-related reactions were reported for 19 patients (12%). In Studies 1 and 2, the most common adverse reactions (>=2%) associated with infusion-related reactions were chills (4%), nausea (3%), dyspnea (3%), pruritus (3%), pyrexia (2%), and cough (2%).\\n\\n\\n\\n In Study 3, infusion-related reactions were reported in 25 patients (15%) in the ADCETRIS-treated arm and 3 patients (2%) in the placebo arm. Grade 3 events were reported in 3 of the 25 patients treated with ADCETRIS who experienced infusion-related reactions. No Grade 4 infusion-related reactions were reported. The most common adverse reactions (>=2%) associated with infusion-related reactions were nausea (4%), chills (4%), dyspnea (2%), headache (2%), pruritus (2%), rash (2%), back pain (2%), and vomiting (2%).\\n\\n\\n\\n   Pulmonary Toxicity  \\n\\n\\n\\n In a trial in patients with classical HL that studied ADCETRIS with bleomycin as part of a combination regimen, the rate of non-infectious pulmonary toxicity was higher than the historical incidence reported with ABVD (adriamycin, bleomycin, vinblastine, dacarbazine). Patients typically reported cough and dyspnea. Interstitial infiltration and/or inflammation were observed on radiographs and computed tomographic imaging of the chest. Most patients responded to corticosteroids. The concomitant use of ADCETRIS with bleomycin is contraindicated  [see  Contraindications (        4        )  ].  \\n\\n\\n\\n Cases of pulmonary toxicity have also been reported in patients receiving ADCETRIS. In Study 3, pulmonary toxicity was reported in 8 patients (5%) in the ADCETRIS-treated arm and 5 patients (3%) in the placebo arm. A causal association with single-agent ADCETRIS has not been established.\\n\\n\\n\\n   Serious adverse reactions  \\n\\n\\n\\n In Studies 1 and 2, serious adverse reactions, regardless of causality, were reported in 31% of patients receiving ADCETRIS. The most common serious adverse reactions experienced by patients with classical HL include peripheral motor neuropathy (4%), abdominal pain (3%), pulmonary embolism (2%), pneumonitis (2%), pneumothorax (2%), pyelonephritis (2%), and pyrexia (2%). The most common serious adverse reactions experienced by patients with sALCL were septic shock (3%), supraventricular arrhythmia (3%), pain in extremity (3%), and urinary tract infection (3%). Other important serious adverse reactions reported include PML, Stevens-Johnson syndrome, and tumor lysis syndrome.\\n\\n\\n\\n In Study 3, serious adverse reactions, regardless of causality, were reported in 25% of ADCETRIS-treated patients. The most common serious adverse reactions were pneumonia (4%), pyrexia (4%), vomiting (3%), nausea (2%), hepatotoxicity (2%) and peripheral sensory neuropathy (2%).\\n\\n\\n\\n   Dose modifications  \\n\\n\\n\\n Adverse reactions that led to dose delays in more than 5% of patients in Studies 1 and 2 were neutropenia (14%) and peripheral sensory neuropathy (11%)  [see  Dosage and Administration (        2.2        )  ]  .\\n\\n\\n\\n Adverse reactions that led to dose delays in more than 5% of ADCETRIS-treated patients in Study 3 were neutropenia (22%), peripheral sensory neuropathy (16%), upper respiratory tract infection (6%), and peripheral motor neuropathy (6%)  [see  Dosage and Administration (        2.2        )  ]  .\\n\\n\\n\\n   Discontinuations  \\n\\n\\n\\n Adverse reactions led to treatment discontinuation in 21% of patients in Studies 1 and 2. Adverse reactions that led to treatment discontinuation in 2 or more patients with classical HL or sALCL were peripheral sensory neuropathy (8%) and peripheral motor neuropathy (3%).\\n\\n\\n\\n Adverse reactions led to treatment discontinuation in 32% of ADCETRIS-treated patients in Study 3. Adverse reactions that led to treatment discontinuation in 2 or more patients were peripheral sensory neuropathy (14%), peripheral motor neuropathy (7%), acute respiratory distress syndrome (1%), paraesthesia (1%) and vomiting (1%).\\n\\n\\n\\n   6.2 Post Marketing Experience\\n\\n  The following adverse reactions have been identified during post-approval use of ADCETRIS.  Because these reactions are reported voluntarily from a population of uncertain size, it is not always possible to reliably estimate their frequency or establish a causal relationship to drug exposure.\\n\\n\\n\\n   Blood and lymphatic system disorders  : febrile neutropenia  [see  Warnings and Precautions (        5.3        )  ]  .\\n\\n\\n\\n   Hepatobiliary disorders  : hepatotoxicity  [see  Warnings and Precautions (        5.8        )  ]  .\\n\\n\\n\\n   Infections  : PML  [see  Boxed Warning,     Warnings and Precautions (5.9)  ]  , serious infections and opportunistic infections  [see  Warnings and Precautions (        5.4        )  ]  .\\n\\n\\n\\n   Metabolism and nutrition disorders  : hyperglycemia.\\n\\n\\n\\n   Gastrointestinal disorders  : Pancreatitis (including fatal outcomes).  Consider the diagnosis of pancreatitis for patients presenting with severe abdominal pain.\\n\\n\\n\\n   Respiratory, thoracic and mediastinal disorders  : noninfectious pulmonary toxicity including pneumonitis, interstitial lung disease, and ARDS (some with fatal outcomes)  [see  Warnings and Precautions (5.10)  and  Adverse Reactions (        6.1        )  ]  .\\n\\n\\n\\n   Skin and subcutaneous tissue disorders  : Toxic epidermal necrolysis, including fatal outcomes  [see  Warnings and Precautions (5.11)  ]  .\\n\\n\\n\\n   6.3 Immunogenicity\\n\\n  Patients with classical HL and sALCL in Studies 1 and 2  [see  Clinical Studies (      14)    ]  were tested for antibodies to brentuximab vedotin every 3 weeks using a sensitive electrochemiluminescent immunoassay. Approximately 7% of patients in these trials developed persistently positive antibodies (positive test at more than 2 timepoints) and 30% developed transiently positive antibodies (positive in 1 or 2 post-baseline timepoints). The anti-brentuximab antibodies were directed against the antibody component of brentuximab vedotin in all patients with transiently or persistently positive antibodies. Two of the patients (1%) with persistently positive antibodies experienced adverse reactions consistent with infusion reactions that led to discontinuation of treatment. Overall, a higher incidence of infusion related reactions was observed in patients who developed persistently positive antibodies.\\n\\n\\n\\n A total of 58 patient samples that were either transiently or persistently positive for anti-brentuximab vedotin antibodies were tested for the presence of neutralizing antibodies. Sixty-two percent of these patients had at least one sample that was positive for the presence of neutralizing antibodies. The effect of anti-brentuximab vedotin antibodies on safety and efficacy is not known.\\n\\n\\n\\n Immunogenicity assay results are highly dependent on several factors including assay sensitivity and specificity, assay methodology, sample handling, timing of sample collection, concomitant medications, and underlying disease. For these reasons, comparison of incidence of antibodies to ADCETRIS with the incidence of antibodies to other products may be misleading.\\n'"
      ]
     },
     "execution_count": 58,
     "metadata": {},
     "output_type": "execute_result"
    }
   ],
   "source": [
    "X['S1']"
   ]
  },
  {
   "cell_type": "code",
   "execution_count": 57,
   "metadata": {},
   "outputs": [
    {
     "data": {
      "text/plain": [
       "{'id': u'M1',\n",
       " 'len': u'21',\n",
       " 'section': u'S1',\n",
       " 'start': u'156',\n",
       " 'type': u'AdverseReaction'}"
      ]
     },
     "execution_count": 57,
     "metadata": {},
     "output_type": "execute_result"
    }
   ],
   "source": [
    "Y[0]"
   ]
  },
  {
   "cell_type": "markdown",
   "metadata": {},
   "source": [
    "To-do: use glob.glob() and parse_xml() to extract all X and y in training folder"
   ]
  }
 ],
 "metadata": {
  "kernelspec": {
   "display_name": "Python 2",
   "language": "python",
   "name": "python2"
  },
  "language_info": {
   "codemirror_mode": {
    "name": "ipython",
    "version": 2
   },
   "file_extension": ".py",
   "mimetype": "text/x-python",
   "name": "python",
   "nbconvert_exporter": "python",
   "pygments_lexer": "ipython2",
   "version": "2.7.13"
  }
 },
 "nbformat": 4,
 "nbformat_minor": 2
}
