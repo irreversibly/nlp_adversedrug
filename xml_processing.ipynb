{
 "cells": [
  {
   "cell_type": "markdown",
   "metadata": {},
   "source": [
    "https://bionlp.nlm.nih.gov/tac2017adversereactions/"
   ]
  },
  {
   "cell_type": "markdown",
   "metadata": {},
   "source": [
    "Task 1: Extract AdverseReactions and related mentions (Severity, Factor, DrugClass, Negation, Animal). This is similar to many NLP Named Entity Recognition (NER) evaluations."
   ]
  },
  {
   "cell_type": "code",
   "execution_count": 86,
   "metadata": {
    "collapsed": true
   },
   "outputs": [],
   "source": [
    "import untangle\n",
    "import glob\n",
    "import pandas as pd\n",
    "from collections import Counter\n",
    "import re\n",
    "import string\n",
    "import csv"
   ]
  },
  {
   "cell_type": "code",
   "execution_count": 3,
   "metadata": {
    "collapsed": true
   },
   "outputs": [],
   "source": [
    "path = '/Users/jzhu/git/nlp_adversedrug/data/train_xml/'"
   ]
  },
  {
   "cell_type": "code",
   "execution_count": 4,
   "metadata": {
    "collapsed": true
   },
   "outputs": [],
   "source": [
    "def parse_xml(filename):\n",
    "    \"\"\"\n",
    "    @input a filename string\n",
    "    @return:\n",
    "    1. For training data: both a dictionary (key is the section) for X (text strings) and a list of dictionary for y \n",
    "        (keys: id (not for task 1), section, type, start, len)\n",
    "    2. For test data: only a list of X\n",
    "    \"\"\"\n",
    "    X = {}\n",
    "    Y = []\n",
    "    \n",
    "    obj = untangle.parse(filename)\n",
    "    for text in obj.Label.Text.Section:\n",
    "        X[text['id']] = text.cdata\n",
    "        \n",
    "    if obj.Label.Mentions.Mention:\n",
    "        for mention in obj.Label.Mentions.Mention:\n",
    "            entity = {}\n",
    "            entity['id'] = mention['id']\n",
    "            entity['section'] = mention['section']\n",
    "            entity['type'] = mention['type']\n",
    "            entity['start'] = mention['start']\n",
    "            entity['len'] = mention['len']\n",
    "            entity['text'] = mention['str']\n",
    "            Y.append(entity)\n",
    "            \n",
    "    return X, Y"
   ]
  },
  {
   "cell_type": "markdown",
   "metadata": {},
   "source": [
    "# test"
   ]
  },
  {
   "cell_type": "code",
   "execution_count": 70,
   "metadata": {
    "collapsed": true
   },
   "outputs": [],
   "source": [
    "filename = path + 'ADCETRIS.xml'\n",
    "X, Y = parse_xml(filename)"
   ]
  },
  {
   "cell_type": "code",
   "execution_count": 71,
   "metadata": {},
   "outputs": [
    {
     "data": {
      "text/plain": [
       "[u'S3', u'S2', u'S1']"
      ]
     },
     "execution_count": 71,
     "metadata": {},
     "output_type": "execute_result"
    }
   ],
   "source": [
    "X.keys()"
   ]
  },
  {
   "cell_type": "code",
   "execution_count": 72,
   "metadata": {},
   "outputs": [
    {
     "data": {
      "text/plain": [
       "u'    6 ADVERSE REACTIONS\\n\\n  The following serious adverse reactions are discussed in greater detail in other sections of the prescribing information:\\n\\n\\n\\n *  Peripheral Neuropathy [see  Warnings and Precautions (      5.1      )  ]  \\n *  Anaphylaxis and Infusion Reactions [see  Warnings and Precautions (      5.2      )  ]  \\n *  Hematologic Toxicities [see  Warnings and Precautions (      5.3      )  ]  \\n *  Serious Infections and Opportunistic Infections [see  Warnings and Precautions (      5.4      )  ]  \\n *  Tumor Lysis Syndrome [see  Warnings and Precautions (      5.5      )  ]  \\n *  Increased Toxicity in the Presence of Severe Renal Impairment [see  Warnings and Precautions (      5.6      )  ]  \\n *  Increased Toxicity in the Presence of Moderate or Severe Hepatic Impairment [see  Warnings and Precautions (      5.7      )  ]  \\n *  Hepatotoxicity [see  Warnings and Precautions (      5.8      )  ]  \\n *  Progressive Multifocal Leukoencephalopathy [see  Warnings and Precautions (      5.9      )  ]  \\n *  Pulmonary Toxicity [see  Warnings and Precautions (5.10)  ]  \\n *  Serious Dermatologic Reactions [see  Warnings and Precautions (5.11)    ]   \\n      EXCERPT:   The most common adverse reactions (>=20%) were:\\n \\n\\n *  Relapsed classical HL and relapsed sALCL: neutropenia, peripheral sensory neuropathy, fatigue, nausea, anemia, upper respiratory tract infection, diarrhea, pyrexia, rash, thrombocytopenia, cough, and vomiting  (6.1)  . \\n *  Classical HL post-auto-HSCT consolidation: neutropenia, peripheral sensory neuropathy, thrombocytopenia, anemia, upper respiratory tract infection, fatigue, peripheral motor neuropathy, nausea, cough, and diarrhea  (6.1)  . \\n      To report SUSPECTED ADVERSE REACTIONS, contact Seattle Genetics, Inc. at 1-855-473-2436 or FDA at 1-800-FDA-1088 or www.fda.gov/medwatch.  \\n \\n\\n \\n\\n  6.1 Clinical Trial Experience\\n\\n  Because clinical trials are conducted under widely varying conditions, adverse reaction rates observed in clinical trials of a drug cannot be directly compared to rates in the clinical trials of another drug and may not reflect the rates observed in practice.\\n\\n\\n\\n The data below reflect exposure to ADCETRIS as monotherapy in 327 patients with classical Hodgkin lymphoma (HL) and systemic anaplastic large cell lymphoma (sALCL), including 160 patients in two uncontrolled single-arm trials (Studies 1 and 2) and 167 patients in one placebo-controlled randomized trial (Study 3).\\n\\n\\n\\n In Studies 1 and 2, the most common adverse reactions (>=20%), regardless of causality, were neutropenia, peripheral sensory neuropathy, fatigue, nausea, anemia, upper respiratory tract infection, diarrhea, pyrexia, rash, thrombocytopenia, cough, and vomiting. The most common adverse reactions occurring in at least 10% of patients in either Study 1 or 2, regardless of causality, using the NCI Common Toxicity Criteria (CTC) Version 3.0, are shown in   Table 2  .\\n\\n\\n\\n In Study 3, the most common adverse reactions (>=20%) in the ADCETRIS-treatment arm, regardless of causality, were neutropenia, peripheral sensory neuropathy, thrombocytopenia, anemia, upper respiratory tract infection, fatigue, peripheral motor neuropathy, nausea, cough, and diarrhea. The most common adverse reactions occurring in at least 10% of patients, using the NCI CTC Version 4, are shown in  Table 3  .\\n\\n\\n\\n   Experience in Classical Hodgkin Lymphoma  \\n\\n\\n\\n     Summary of Clinical Trial Experience in Relapsed Classical HL (Study 1)    \\n\\n\\n\\n ADCETRIS was studied in 102 patients with classical HL in a single arm clinical trial in which the recommended starting dose and schedule was 1.8 mg/kg intravenously every 3 weeks. Median duration of treatment was 9 cycles (range, 1-16)  [see  Clinical Studies (        14.1        )  ]  .\\n\\n\\n\\n The most common adverse reactions (>=20%), regardless of causality, were neutropenia, peripheral sensory neuropathy, fatigue, upper respiratory tract infection, nausea, diarrhea, anemia, pyrexia, thrombocytopenia, rash, abdominal pain, cough, and vomiting.\\n\\n\\n\\n     Summary of Clinical Trial Experience in Classical HL Post-auto-HSCT Consolidation (Study 3)    \\n\\n\\n\\n ADCETRIS was studied in 329 patients with classical HL at high risk of relapse or progression post-auto-HSCT in a randomized, double-blind, placebo-controlled clinical trial in which the recommended starting dose and schedule was 1.8 mg/kg of ADCETRIS administered intravenously over 30 minutes every 3 weeks or placebo for up to 16 cycles. Of the 329 enrolled patients, 327 (167 brentuximab vedotin, 160 placebo) received at least one dose of study treatment. The median number of treatment cycles in each study arm was 15 (range, 1-16) and 80 patients (48%) in the ADCETRIS-treatment arm received 16 cycles  [see  Clinical Studies (        14.1        )  ]  .\\n\\n\\n\\n Standard international guidelines were followed for infection prophylaxis for herpes simplex virus (HSV), varicella-zoster virus (VZV), and  Pneumocystis jiroveci  pneumonia (PCP) post-auto-HSCT. Overall, 312 patients (95%) received HSV and VZV prophylaxis with a median duration of 11.1 months (range, 0-20) and 319 patients (98%) received PCP prophylaxis with a median duration of 6.5 months (range, 0-20).\\n\\n\\n\\n   Experience in Systemic Anaplastic Large Cell Lymphoma  \\n\\n\\n\\n     Summary of Clinical Trial Experience in Relapsed sALCL (Study 2)    \\n\\n\\n\\n ADCETRIS was studied in 58 patients with sALCL in a single arm clinical trial in which the recommended starting dose and schedule was 1.8 mg/kg intravenously every 3 weeks. Median duration of treatment was 7 cycles (range, 1-16)  [see  Clinical Studies (        14.2        )  ]  .\\n\\n\\n\\n The most common adverse reactions (>=20%), regardless of causality, were neutropenia, anemia, peripheral sensory neuropathy, fatigue, nausea, pyrexia, rash, diarrhea, and pain.\\n\\n\\n\\n Table 2: Most Commonly Reported (>=10%) Adverse Reactions in Studies 1 and 2 \\n                                                 Classical HL  sALCL       \\n                                                 Total N = 102% of patients  Total N = 58% of patients   \\n Adverse Reaction                                AnyGrade   Grade3     Grade4     AnyGrade   Grade3     Grade4      \\n   Blood and lymphatic system disorders                                                                             \\n     Neutropenia                                 54         15         6          55         12         9           \\n     Anemia                                      33         8          2          52         2          -           \\n     Thrombocytopenia                            28         7          2          16         5          5           \\n     Lymphadenopathy                             11         -          -          10         -          -           \\n   Nervous system disorders                                                                                         \\n     Peripheral sensory neuropathy               52         8          -          53         10         -           \\n     Peripheral motor neuropathy                 16         4          -          7          3          -           \\n     Headache                                    19         -          -          16         2          -           \\n     Dizziness                                   11         -          -          16         -          -           \\n   General disorders and administration site conditions                                                                       \\n     Fatigue                                     49         3          -          41         2          2           \\n     Pyrexia                                     29         2          -          38         2          -           \\n     Chills                                      13         -          -          12         -          -           \\n     Pain                                        7          -          -          28         -          5           \\n     Edema peripheral                            4          -          -          16         -          -           \\n   Infections and infestations                                                                                      \\n     Upper respiratory tract infection           47         -          -          12         -          -           \\n   Gastrointestinal disorders                                                                                       \\n     Nausea                                      42         -          -          38         2          -           \\n     Diarrhea                                    36         1          -          29         3          -           \\n     Abdominal pain                              25         2          1          9          2          -           \\n     Vomiting                                    22         -          -          17         3          -           \\n     Constipation                                16         -          -          19         2          -           \\n   Skin and subcutaneous tissue disorders                                                                           \\n     Rash                                        27         -          -          31         -          -           \\n     Pruritus                                    17         -          -          19         -          -           \\n     Alopecia                                    13         -          -          14         -          -           \\n     Night sweats                                12         -          -          9          -          -           \\n     Dry skin                                    4          -          -          10         -          -           \\n   Respiratory, thoracic and mediastinal disorders                                                                       \\n     Cough                                       25         -          -          17         -          -           \\n     Dyspnea                                     13         1          -          19         2          -           \\n     Oropharyngeal pain                          11         -          -          9          -          -           \\n   Musculoskeletal and connective tissue disorders                                                                       \\n     Arthralgia                                  19         -          -          9          -          -           \\n     Myalgia                                     17         -          -          16         2          -           \\n     Back pain                                   14         -          -          10         2          -           \\n     Pain in extremity                           10         -          -          10         2          2           \\n     Muscle spasms                               9          -          -          10         2          -           \\n   Psychiatric disorders                                                                                            \\n     Insomnia                                    14         -          -          16         -          -           \\n     Anxiety                                     11         2          -          7          -          -           \\n   Metabolism and nutrition disorders                                                                               \\n     Decreased appetite                          11         -          -          16         2          -           \\n   Investigations                                                                                                   \\n     Weight decreased                            6          -          -          12         3          -           \\n     Table 3: Most Commonly Reported (>=10% in the ADCETRIS arm) Adverse Reactions in Study 3 \\n                                                 ADCETRIS   Placebo     \\n                                                 Total N = 167% of patients  Total N = 160% of patients   \\n Adverse Reaction                                AnyGrade   Grade3     Grade4     AnyGrade   Grade3     Grade4      \\n   Blood and lymphatic system disorders                                                                             \\n     Neutropenia                                 78         30         9          34         6          4           \\n     Thrombocytopenia                            41         2          4          20         3          2           \\n     Anemia                                      27         4          -          19         2          -           \\n   Nervous system disorders                                                                                         \\n     Peripheral sensory neuropathy               56         10         -          16         1          -           \\n     Peripheral motor neuropathy                 23         6          -          2          1          -           \\n     Headache                                    11         2          -          8          1          -           \\n   Infections and infestations                                                                                      \\n     Upper respiratory tract infection           26         -          -          23         1          -           \\n   General disorders and administration site conditions                                                                       \\n     Fatigue                                     24         2          -          18         3          -           \\n     Pyrexia                                     19         2          -          16         -          -           \\n     Chills                                      10         -          -          5          -          -           \\n   Gastrointestinal disorders                                                                                       \\n     Nausea                                      22         3          -          8          -          -           \\n     Diarrhea                                    20         2          -          10         1          -           \\n     Vomiting                                    16         2          -          7          -          -           \\n     Abdominal pain                              14         2          -          3          -          -           \\n     Constipation                                13         2          -          3          -          -           \\n   Respiratory, thoracic and mediastinal disorders                                                                       \\n     Cough                                       21         -          -          16         -          -           \\n     Dyspnea                                     13         -          -          6          -          1           \\n   Investigations                                                                                                   \\n     Weight decreased                            19         1          -          6          -          -           \\n   Musculoskeletal and connective tissue disorders                                                                       \\n     Arthralgia                                  18         1          -          9          -          -           \\n     Muscle spasms                               11         -          -          6          -          -           \\n     Myalgia                                     11         1          -          4          -          -           \\n   Skin and subcutaneous tissue disorders                                                                           \\n     Pruritus                                    12         1          -          8          -          -           \\n   Metabolism and nutrition disorders                                                                               \\n     Decreased appetite                          12         1          -          6          -          -           \\n        Additional Important Adverse Reactions  \\n \\n\\n   Peripheral neuropathy  \\n\\n\\n\\n In Studies 1 and 2, 54% of patients experienced any grade of neuropathy. Of these patients, 49% had complete resolution, 31% had partial improvement, and 20% had no improvement. Of the patients who reported neuropathy, 51% had residual neuropathy at the time of their last evaluation.\\n\\n\\n\\n In Study 3, 67% of patients treated with ADCETRIS experienced any grade of neuropathy. The median time to first onset of any grade was 14 weeks (range, 0.1-47), of Grade 2 was 27 weeks (range, 0.4-52) and of Grade 3 was 34 weeks (range, 7-106). The median time from onset to resolution or improvement of any grade was 23 weeks (range, 0.1-138), of Grade 2 was 24 weeks (range, 1-108) and of Grade 3 was 25 weeks (range, 2-98). Of the patients who reported neuropathy, 59% had complete resolution and 41% had residual neuropathy (26% partial improvement, 15% no improvement) at the time of their last evaluation.\\n\\n\\n\\n   Infusion reactions  \\n\\n\\n\\n Two cases of anaphylaxis were reported in the dose-finding trials. There were no Grade 3 or 4 infusion-related reactions reported in Studies 1 and 2; however, Grade 1 or 2 infusion-related reactions were reported for 19 patients (12%). In Studies 1 and 2, the most common adverse reactions (>=2%) associated with infusion-related reactions were chills (4%), nausea (3%), dyspnea (3%), pruritus (3%), pyrexia (2%), and cough (2%).\\n\\n\\n\\n In Study 3, infusion-related reactions were reported in 25 patients (15%) in the ADCETRIS-treated arm and 3 patients (2%) in the placebo arm. Grade 3 events were reported in 3 of the 25 patients treated with ADCETRIS who experienced infusion-related reactions. No Grade 4 infusion-related reactions were reported. The most common adverse reactions (>=2%) associated with infusion-related reactions were nausea (4%), chills (4%), dyspnea (2%), headache (2%), pruritus (2%), rash (2%), back pain (2%), and vomiting (2%).\\n\\n\\n\\n   Pulmonary Toxicity  \\n\\n\\n\\n In a trial in patients with classical HL that studied ADCETRIS with bleomycin as part of a combination regimen, the rate of non-infectious pulmonary toxicity was higher than the historical incidence reported with ABVD (adriamycin, bleomycin, vinblastine, dacarbazine). Patients typically reported cough and dyspnea. Interstitial infiltration and/or inflammation were observed on radiographs and computed tomographic imaging of the chest. Most patients responded to corticosteroids. The concomitant use of ADCETRIS with bleomycin is contraindicated  [see  Contraindications (        4        )  ].  \\n\\n\\n\\n Cases of pulmonary toxicity have also been reported in patients receiving ADCETRIS. In Study 3, pulmonary toxicity was reported in 8 patients (5%) in the ADCETRIS-treated arm and 5 patients (3%) in the placebo arm. A causal association with single-agent ADCETRIS has not been established.\\n\\n\\n\\n   Serious adverse reactions  \\n\\n\\n\\n In Studies 1 and 2, serious adverse reactions, regardless of causality, were reported in 31% of patients receiving ADCETRIS. The most common serious adverse reactions experienced by patients with classical HL include peripheral motor neuropathy (4%), abdominal pain (3%), pulmonary embolism (2%), pneumonitis (2%), pneumothorax (2%), pyelonephritis (2%), and pyrexia (2%). The most common serious adverse reactions experienced by patients with sALCL were septic shock (3%), supraventricular arrhythmia (3%), pain in extremity (3%), and urinary tract infection (3%). Other important serious adverse reactions reported include PML, Stevens-Johnson syndrome, and tumor lysis syndrome.\\n\\n\\n\\n In Study 3, serious adverse reactions, regardless of causality, were reported in 25% of ADCETRIS-treated patients. The most common serious adverse reactions were pneumonia (4%), pyrexia (4%), vomiting (3%), nausea (2%), hepatotoxicity (2%) and peripheral sensory neuropathy (2%).\\n\\n\\n\\n   Dose modifications  \\n\\n\\n\\n Adverse reactions that led to dose delays in more than 5% of patients in Studies 1 and 2 were neutropenia (14%) and peripheral sensory neuropathy (11%)  [see  Dosage and Administration (        2.2        )  ]  .\\n\\n\\n\\n Adverse reactions that led to dose delays in more than 5% of ADCETRIS-treated patients in Study 3 were neutropenia (22%), peripheral sensory neuropathy (16%), upper respiratory tract infection (6%), and peripheral motor neuropathy (6%)  [see  Dosage and Administration (        2.2        )  ]  .\\n\\n\\n\\n   Discontinuations  \\n\\n\\n\\n Adverse reactions led to treatment discontinuation in 21% of patients in Studies 1 and 2. Adverse reactions that led to treatment discontinuation in 2 or more patients with classical HL or sALCL were peripheral sensory neuropathy (8%) and peripheral motor neuropathy (3%).\\n\\n\\n\\n Adverse reactions led to treatment discontinuation in 32% of ADCETRIS-treated patients in Study 3. Adverse reactions that led to treatment discontinuation in 2 or more patients were peripheral sensory neuropathy (14%), peripheral motor neuropathy (7%), acute respiratory distress syndrome (1%), paraesthesia (1%) and vomiting (1%).\\n\\n\\n\\n   6.2 Post Marketing Experience\\n\\n  The following adverse reactions have been identified during post-approval use of ADCETRIS.  Because these reactions are reported voluntarily from a population of uncertain size, it is not always possible to reliably estimate their frequency or establish a causal relationship to drug exposure.\\n\\n\\n\\n   Blood and lymphatic system disorders  : febrile neutropenia  [see  Warnings and Precautions (        5.3        )  ]  .\\n\\n\\n\\n   Hepatobiliary disorders  : hepatotoxicity  [see  Warnings and Precautions (        5.8        )  ]  .\\n\\n\\n\\n   Infections  : PML  [see  Boxed Warning,     Warnings and Precautions (5.9)  ]  , serious infections and opportunistic infections  [see  Warnings and Precautions (        5.4        )  ]  .\\n\\n\\n\\n   Metabolism and nutrition disorders  : hyperglycemia.\\n\\n\\n\\n   Gastrointestinal disorders  : Pancreatitis (including fatal outcomes).  Consider the diagnosis of pancreatitis for patients presenting with severe abdominal pain.\\n\\n\\n\\n   Respiratory, thoracic and mediastinal disorders  : noninfectious pulmonary toxicity including pneumonitis, interstitial lung disease, and ARDS (some with fatal outcomes)  [see  Warnings and Precautions (5.10)  and  Adverse Reactions (        6.1        )  ]  .\\n\\n\\n\\n   Skin and subcutaneous tissue disorders  : Toxic epidermal necrolysis, including fatal outcomes  [see  Warnings and Precautions (5.11)  ]  .\\n\\n\\n\\n   6.3 Immunogenicity\\n\\n  Patients with classical HL and sALCL in Studies 1 and 2  [see  Clinical Studies (      14)    ]  were tested for antibodies to brentuximab vedotin every 3 weeks using a sensitive electrochemiluminescent immunoassay. Approximately 7% of patients in these trials developed persistently positive antibodies (positive test at more than 2 timepoints) and 30% developed transiently positive antibodies (positive in 1 or 2 post-baseline timepoints). The anti-brentuximab antibodies were directed against the antibody component of brentuximab vedotin in all patients with transiently or persistently positive antibodies. Two of the patients (1%) with persistently positive antibodies experienced adverse reactions consistent with infusion reactions that led to discontinuation of treatment. Overall, a higher incidence of infusion related reactions was observed in patients who developed persistently positive antibodies.\\n\\n\\n\\n A total of 58 patient samples that were either transiently or persistently positive for anti-brentuximab vedotin antibodies were tested for the presence of neutralizing antibodies. Sixty-two percent of these patients had at least one sample that was positive for the presence of neutralizing antibodies. The effect of anti-brentuximab vedotin antibodies on safety and efficacy is not known.\\n\\n\\n\\n Immunogenicity assay results are highly dependent on several factors including assay sensitivity and specificity, assay methodology, sample handling, timing of sample collection, concomitant medications, and underlying disease. For these reasons, comparison of incidence of antibodies to ADCETRIS with the incidence of antibodies to other products may be misleading.\\n'"
      ]
     },
     "execution_count": 72,
     "metadata": {},
     "output_type": "execute_result"
    }
   ],
   "source": [
    "X['S1']"
   ]
  },
  {
   "cell_type": "code",
   "execution_count": 73,
   "metadata": {},
   "outputs": [
    {
     "data": {
      "text/plain": [
       "u'Anaphylaxis'"
      ]
     },
     "execution_count": 73,
     "metadata": {},
     "output_type": "execute_result"
    }
   ],
   "source": [
    "X['S1'][236:(236+11)]"
   ]
  },
  {
   "cell_type": "code",
   "execution_count": 41,
   "metadata": {},
   "outputs": [
    {
     "data": {
      "text/plain": [
       "[{'id': u'M1',\n",
       "  'len': u'21',\n",
       "  'section': u'S1',\n",
       "  'start': u'156',\n",
       "  'text': u'Peripheral Neuropathy',\n",
       "  'type': u'AdverseReaction'},\n",
       " {'id': u'M2',\n",
       "  'len': u'11',\n",
       "  'section': u'S1',\n",
       "  'start': u'236',\n",
       "  'text': u'Anaphylaxis',\n",
       "  'type': u'AdverseReaction'}]"
      ]
     },
     "execution_count": 41,
     "metadata": {},
     "output_type": "execute_result"
    }
   ],
   "source": [
    "Y[:2]"
   ]
  },
  {
   "cell_type": "markdown",
   "metadata": {},
   "source": [
    "### For NER_DL: extract only the entities and tags in training folder (then use the pre-trained word2vec from spacy)"
   ]
  },
  {
   "cell_type": "code",
   "execution_count": 21,
   "metadata": {},
   "outputs": [
    {
     "data": {
      "text/plain": [
       "[u'S3', u'S2', u'S1']"
      ]
     },
     "execution_count": 21,
     "metadata": {},
     "output_type": "execute_result"
    }
   ],
   "source": [
    "f = path + 'ADCETRIS.xml'\n",
    "X, Y = parse_xml(f)\n",
    "X.keys()"
   ]
  },
  {
   "cell_type": "code",
   "execution_count": 112,
   "metadata": {},
   "outputs": [
    {
     "name": "stdout",
     "output_type": "stream",
     "text": [
      "Grade 3/ 2185 2193\n",
      "Diarrhea 3475 3483\n",
      "Diarrhea 3483 3491\n",
      "Tremor 4627 4633\n",
      "Tremor 4633 4639\n",
      "Dyspnea 4878 4885\n",
      "Dyspnea 4885 4892\n",
      "Rash 5154 5158\n",
      "Rash 5158 5162\n",
      "Kidney Failure 4886 4900\n",
      "cardiac arrest 4714 4728\n",
      "syncope 4744 4751\n",
      "HEMORRHAGE 762 772\n",
      "0.0% 1659 1663\n",
      "0.0% 3816 3820\n",
      "Hemorrhagic stroke 3817 3835\n",
      "Bleed at critical site 9344 9366\n",
      "Genital mycotic infections females 3089 3115\n",
      "Urinary tract infections 3721 3745\n",
      "Increased urination 4204 4223\n",
      "Genital mycotic infections males 4457 4483\n",
      "Volume Depletion 6976 6992\n",
      "Volume depletion 6992 7008\n",
      "Major 12782 12787\n",
      "Minor 13070 13075\n",
      "hematocrit values >55% 18092 18114\n",
      "2.8% 13437 13441\n",
      "3.3% 13595 13599\n",
      "3-fold the upper limit of normal (ULN) 14632 14670\n",
      "blood potassium decreased 6530 6555\n",
      "=10 muU/mL 8600 8610\n",
      "Hypoglycemia 15224 15236\n",
      "0.9% 22805 22809\n",
      "1.2% 22814 22818\n",
      "0.3% 22861 22865\n",
      "0.7% 22870 22874\n",
      "0.1% 22939 22943\n",
      "0.4% 22992 22996\n",
      "Severe 9620 9626\n",
      "transaminase >8 * ULN 6145 6147\n",
      "transaminase >8 * ULN 6159 6164\n",
      "transaminase >5 * ULN 6149 6151\n",
      "transaminase >5 * ULN 6159 6164\n",
      "transaminase >3 * ULN 6156 6164\n",
      "ALT >8 * ULN 6145 6147\n",
      "ALT >8 * ULN 6159 6164\n",
      "ALT >5 * ULN 6149 6151\n",
      "ALT >5 * ULN 6159 6164\n",
      "ALT >3 * ULN 6156 6164\n",
      "AST >8 * ULN 6145 6147\n",
      "AST >8 * ULN 6159 6164\n",
      "AST >5 * ULN 6149 6151\n",
      "AST >5 * ULN 6159 6164\n",
      "AST >3 * ULN 6156 6164\n",
      ">8 * ULN 6404 6412\n",
      "ALT >3 * ULN 6994 7002\n",
      "AST >3 * ULN 6994 7002\n",
      ">3 * ULN 6994 7002\n",
      "Pneumonia 7038 7047\n",
      "Peripheral Neuropathies NEC 7954 7981\n",
      "Dyspnea 8529 8536\n",
      "Embolic and Thrombotic Events, Venous 8985 9022\n",
      "Hypertension 9099 9111\n",
      "Pneumonia 16983 16992\n",
      "Peripheral Neuropathies NEC 18509 18536\n",
      "Dyspnea 18945 18952\n",
      "Hypertension 19599 19611\n",
      "three times the upper limit of normal (ULN) 3057 3100\n",
      "Hypoglycemia 4731 4743\n",
      "infections 11838 11848\n",
      "Hallucinations 8508 8522\n",
      "Epidural hematomas 782 790\n",
      "Intracranial bleed 3815 3833\n",
      "Fatal 4039 4044\n",
      "Non-intracranial bleed 4192 4208\n",
      "Total Cholesterol >= 261 mg/dl 11660 11672\n",
      "LDL Cholesterol >= 190 mg/dl 11814 11826\n",
      "Triglycerides, fasting >= 327 mg/dl 11938 11950\n",
      "supine diastolic blood pressure >=90 mm Hg 13878 13888\n",
      "ALT increased 9465 9478\n",
      "7% 17935 17937\n",
      "7% 18750 18752\n",
      "7% 18790 18792\n",
      "7% 19146 19148\n",
      "7% 19305 19307\n",
      "7% 19752 19754\n",
      "7% 20016 20018\n",
      "7% 21288 21290\n",
      "7% 21328 21330\n",
      "3 times upper limit of normal (ULN) 27678 27713\n",
      "3 times upper limit of normal (ULN) 28217 28252\n",
      "AST >5.0 * ULN 7447 7457\n",
      "ALT >3.0 * ULN 7558 7568\n",
      "Amylase >2.0 * ULN 7672 7682\n",
      "Creatine Kinase >= 10.0 * ULN 7792 7805\n",
      "3+ 10656 10658\n",
      "Injection site reaction 3085 3108\n",
      "lymphocyte counts <0.5x10 9 /L 3542 3556\n",
      "Rash 4606 4610\n",
      "Hemoglobin (g/dL) <8.5 10428 10445\n",
      "Hemoglobin (g/dL) <8.5 10568 10572\n",
      "Neutrophils (* 10 9 /L) <0.5 10683 10708\n",
      "Neutrophils (* 10 9 /L) <0.5 10828 10832\n",
      "Platelets (* 10 9 /L) <25 10943 10966\n",
      "Platelets (* 10 9 /L) <25 11086 11089\n",
      "three times the upper limit of normal (ULN) 1531 1574\n",
      "penile \"popping\" sensation 3331 3347\n",
      "penile \"popping\" sensation 540 556\n",
      "penile \"popping\" sensation 658 674\n",
      "penile \"popping\" sensation 9348 9364\n",
      "Asthenic Conditions 3067 3086\n",
      "Dizziness 4448 4457\n",
      "Mental Impairment Disorders 4810 4837\n",
      "Upper Respiratory Tract Infection 5071 5108\n",
      "Lower Respiratory Tract Infection 5233 5242\n",
      "Lung Infection 5228 5242\n",
      "Asthenic Conditions 8055 8074\n",
      "Dizziness 9113 9122\n",
      "Mental Impairment Disorders 9449 9476\n",
      "Upper Respiratory Tract Infection 9860 9897\n",
      "Lower Respiratory Tract Infection 10022 10031\n",
      "Lung Infection 10017 10031\n",
      "Enterocolitis 4386 4399\n",
      "Hepatotoxicity 4495 4509\n",
      "Dermatitis 4604 4614\n",
      "Neuropathy 4713 4723\n",
      "Eosinophilia 5589 5601\n",
      "Pericarditis 5698 5710\n"
     ]
    }
   ],
   "source": [
    "train = []\n",
    "\n",
    "for f in glob.glob(path+'*.xml'):\n",
    "    X, Y = parse_xml(f)\n",
    "\n",
    "    for section in X.keys():\n",
    "        doc = X[section]\n",
    "\n",
    "        # split the words in a doc\n",
    "        word_ind = [[m.group(0), m.start(), m.end(), 'O'] for m in re.finditer(r'\\w+', doc)\n",
    "            if m.group(0) ]\n",
    "        words = [w[0] for w in word_ind]\n",
    "        starts = [s[1] for s in word_ind]\n",
    "        ends = [e[2] for e in word_ind]\n",
    "        types = [e[3] for e in word_ind]\n",
    "        start_dict = dict(zip(starts, range(len(starts))))\n",
    "        end_dict = dict(zip(ends, range(len(starts))))\n",
    "\n",
    "        # parse the names in the same doc\n",
    "        e_text = []\n",
    "        e_type = []\n",
    "        e_start = []\n",
    "        e_end = []\n",
    "        for e in Y:\n",
    "            if e['section'] == section:\n",
    "                starts = e['start'].split(',')\n",
    "                lens = e['len'].split(',')\n",
    "                for i in range(len(starts)):\n",
    "                    e_text.append(e['text'])\n",
    "                    e_type.append(e['type'])\n",
    "                    e_start.append(int(starts[i]))\n",
    "                    e_end.append(int(starts[i]) + int(lens[i]))\n",
    "\n",
    "        # label the names in the list of total words\n",
    "        for i in range(len(e_start)):\n",
    "            if (e_start[i] in start_dict) and (e_end[i] in end_dict):\n",
    "                ind_start = start_dict[e_start[i]]\n",
    "                ind_end = end_dict[e_end[i]]\n",
    "\n",
    "                words[ind_start] = ' '.join(words[ind_start:(ind_end + 1)])\n",
    "                types[ind_start] = e_type[i]\n",
    "                for j in range(ind_start, ind_end):\n",
    "                    types[j+1] = 'rm' # label to remove later\n",
    "\n",
    "            else:\n",
    "                print e_text[i], e_start[i], e_end[i]\n",
    "\n",
    "        # remove those words tagged with 'rm' (i.e. combine names with more than one word)\n",
    "        train += [[words[i], types[i]] for i in range(len(words)) if types[i] != 'rm']\n",
    "\n",
    "        # insert a new line to seperate from the next section\n",
    "        train.append(['', ''])"
   ]
  },
  {
   "cell_type": "code",
   "execution_count": 113,
   "metadata": {},
   "outputs": [
    {
     "data": {
      "text/plain": [
       "213037"
      ]
     },
     "execution_count": 113,
     "metadata": {},
     "output_type": "execute_result"
    }
   ],
   "source": [
    "len(train)"
   ]
  },
  {
   "cell_type": "code",
   "execution_count": 111,
   "metadata": {},
   "outputs": [
    {
     "data": {
      "text/plain": [
       "239"
      ]
     },
     "execution_count": 111,
     "metadata": {},
     "output_type": "execute_result"
    }
   ],
   "source": [
    "213037 - 212798 # num of sections of all xml files"
   ]
  },
  {
   "cell_type": "code",
   "execution_count": 115,
   "metadata": {
    "collapsed": true
   },
   "outputs": [],
   "source": [
    "with open(\"train.csv\", \"wb\") as f:\n",
    "    writer = csv.writer(f)\n",
    "    writer.writerows(train)"
   ]
  },
  {
   "cell_type": "markdown",
   "metadata": {
    "collapsed": true
   },
   "source": [
    "Note: \n",
    "* Still need to deal with many outliers \n",
    "\n",
    "* Since the name index is based on original text, we cannot do word labeling one word by one word. \n",
    "* Thus I first wrote all words in sentences one in a line, with the index on the same line \n",
    "* then use the name index from xml to relabel those types of names"
   ]
  },
  {
   "cell_type": "code",
   "execution_count": null,
   "metadata": {
    "collapsed": true
   },
   "outputs": [],
   "source": []
  }
 ],
 "metadata": {
  "kernelspec": {
   "display_name": "Python 2",
   "language": "python",
   "name": "python2"
  },
  "language_info": {
   "codemirror_mode": {
    "name": "ipython",
    "version": 2
   },
   "file_extension": ".py",
   "mimetype": "text/x-python",
   "name": "python",
   "nbconvert_exporter": "python",
   "pygments_lexer": "ipython2",
   "version": "2.7.13"
  }
 },
 "nbformat": 4,
 "nbformat_minor": 2
}
