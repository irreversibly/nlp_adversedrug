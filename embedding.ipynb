{
 "cells": [
  {
   "cell_type": "markdown",
   "metadata": {},
   "source": [
    "https://gist.github.com/dirko/1d596ca757a541da96ac3caa6f291229\n",
    "\n",
    "http://dirko.github.io/Bidirectional-LSTMs-with-Keras/"
   ]
  },
  {
   "cell_type": "code",
   "execution_count": 1,
   "metadata": {},
   "outputs": [
    {
     "name": "stderr",
     "output_type": "stream",
     "text": [
      "Using TensorFlow backend.\n",
      "/Users/jzhu/anaconda2/lib/python2.7/site-packages/sklearn/cross_validation.py:44: DeprecationWarning: This module was deprecated in version 0.18 in favor of the model_selection module into which all the refactored classes and functions are moved. Also note that the interface of the new CV iterators are different from that of this module. This module will be removed in 0.20.\n",
      "  \"This module will be removed in 0.20.\", DeprecationWarning)\n"
     ]
    }
   ],
   "source": [
    "# author: Keras==1.0.6\n",
    "# mine: Keras==1.2.1\n",
    "import numpy as np\n",
    "import re\n",
    "\n",
    "from keras.models import Sequential\n",
    "from keras.layers.recurrent import LSTM\n",
    "from keras.layers.core import TimeDistributedDense, Activation\n",
    "from keras.preprocessing.sequence import pad_sequences\n",
    "from keras.layers.embeddings import Embedding\n",
    "from keras.layers import Merge\n",
    "from keras.backend import tf\n",
    "\n",
    "from sklearn.metrics import confusion_matrix, accuracy_score\n",
    "from sklearn.cross_validation import train_test_split\n",
    "\n",
    "from lambdawithmask import Lambda as MaskLambda"
   ]
  },
  {
   "cell_type": "code",
   "execution_count": 2,
   "metadata": {
    "collapsed": true
   },
   "outputs": [],
   "source": [
    "def encode(x, n):\n",
    "    result = np.zeros(n)\n",
    "    result[x] = 1\n",
    "    return result\n",
    "\n",
    "def chunks(l, n):\n",
    "    \"\"\"Yield successive n-sized chunks from l.\"\"\"\n",
    "    for i in range(0, len(l), n):\n",
    "        yield l[i:i + n]\n",
    "        \n",
    "def reverse_func(x, mask=None):\n",
    "    return tf.reverse(x, [False, True, False])\n",
    "\n",
    "def score1(yh, pr):\n",
    "    coords = [np.where(yhh > 0)[0][0] for yhh in yh]\n",
    "    yh = [yhh[co:] for yhh, co in zip(yh, coords)]\n",
    "    ypr = [prr[co:] for prr, co in zip(pr, coords)]\n",
    "    fyh = [c for row in yh for c in row]\n",
    "    fpr = [c for row in ypr for c in row]\n",
    "    return fyh, fpr"
   ]
  },
  {
   "cell_type": "code",
   "execution_count": 3,
   "metadata": {},
   "outputs": [],
   "source": [
    "raw = open('train.csv', 'r').readlines()\n",
    "all_x = []\n",
    "point = []\n",
    "for line in raw:\n",
    "    stripped_line = line.strip().split(',')\n",
    "    point.append(stripped_line)\n",
    "    if line == '\"\"\\r\\n':\n",
    "#         print \"newline\"\n",
    "        all_x.append(point[:-1])\n",
    "        point = []\n",
    "all_x = all_x[:-1]\n",
    "lengths = [len(x) for x in all_x]\n",
    "# short_x = [x for x in all_x if len(x) < 64]\n",
    "\n",
    "# split long sections into chucks (a mimic of sentences)\n",
    "short_x = []\n",
    "for l in all_x:\n",
    "    short_x.extend(chunks(l, 64))"
   ]
  },
  {
   "cell_type": "code",
   "execution_count": 4,
   "metadata": {},
   "outputs": [
    {
     "data": {
      "text/plain": [
       "3428"
      ]
     },
     "execution_count": 4,
     "metadata": {},
     "output_type": "execute_result"
    }
   ],
   "source": [
    "len(short_x)"
   ]
  },
  {
   "cell_type": "code",
   "execution_count": 5,
   "metadata": {},
   "outputs": [],
   "source": [
    "X = [[c[0] for c in x] for x in short_x]\n",
    "y = [[c[1] for c in y] for y in short_x]"
   ]
  },
  {
   "cell_type": "code",
   "execution_count": 6,
   "metadata": {},
   "outputs": [
    {
     "name": "stdout",
     "output_type": "stream",
     "text": [
      "Input sequence length range:  4741 58\n"
     ]
    }
   ],
   "source": [
    "all_text = [c for x in X for c in x]\n",
    "words = list(set(all_text))\n",
    "word2ind = {word: index for index, word in enumerate(words)}\n",
    "ind2word = {index: word for index, word in enumerate(words)}\n",
    "labels = list(set([c for x in y for c in x]))\n",
    "# label2ind = {label: (index + 1) for index, label in enumerate(labels)}\n",
    "# ind2label = {(index + 1): label for index, label in enumerate(labels)}\n",
    "label2ind = {label: (index) for index, label in enumerate(labels)}\n",
    "ind2label = {(index): label for index, label in enumerate(labels)}\n",
    "print 'Input sequence length range: ', max(lengths), min(lengths)"
   ]
  },
  {
   "cell_type": "code",
   "execution_count": 7,
   "metadata": {},
   "outputs": [
    {
     "data": {
      "text/plain": [
       "{0: 'Severity',\n",
       " 1: 'Negation',\n",
       " 2: 'O',\n",
       " 3: 'DrugClass',\n",
       " 4: 'Animal',\n",
       " 5: 'Factor',\n",
       " 6: 'AdverseReaction'}"
      ]
     },
     "execution_count": 7,
     "metadata": {},
     "output_type": "execute_result"
    }
   ],
   "source": [
    "ind2label"
   ]
  },
  {
   "cell_type": "code",
   "execution_count": 8,
   "metadata": {},
   "outputs": [
    {
     "name": "stdout",
     "output_type": "stream",
     "text": [
      "Maximum sequence length: 64\n"
     ]
    }
   ],
   "source": [
    "maxlen = max([len(x) for x in X])\n",
    "print 'Maximum sequence length:', maxlen"
   ]
  },
  {
   "cell_type": "code",
   "execution_count": 9,
   "metadata": {},
   "outputs": [],
   "source": [
    "X_enc = [[word2ind[c] for c in x] for x in X]\n",
    "X_enc_reverse = [[c for c in reversed(x)] for x in X_enc]\n",
    "max_label = max(label2ind.values()) + 1\n",
    "# max_label = max(label2ind.values())\n",
    "y_enc = [[0] * (maxlen - len(ey)) + [label2ind[c] for c in ey] for ey in y]\n",
    "y_enc = [[encode(c, max_label) for c in ey] for ey in y_enc]"
   ]
  },
  {
   "cell_type": "code",
   "execution_count": 10,
   "metadata": {},
   "outputs": [
    {
     "data": {
      "text/plain": [
       "7"
      ]
     },
     "execution_count": 10,
     "metadata": {},
     "output_type": "execute_result"
    }
   ],
   "source": [
    "max_label"
   ]
  },
  {
   "cell_type": "code",
   "execution_count": 11,
   "metadata": {},
   "outputs": [
    {
     "data": {
      "text/plain": [
       "array([ 0.,  0.,  1.,  0.,  0.,  0.,  0.])"
      ]
     },
     "execution_count": 11,
     "metadata": {},
     "output_type": "execute_result"
    }
   ],
   "source": [
    "y_enc[0][0]"
   ]
  },
  {
   "cell_type": "code",
   "execution_count": 12,
   "metadata": {
    "collapsed": true
   },
   "outputs": [],
   "source": [
    "X_enc_f = pad_sequences(X_enc, maxlen=maxlen)\n",
    "X_enc_b = pad_sequences(X_enc_reverse, maxlen=maxlen)\n",
    "y_enc = pad_sequences(y_enc, maxlen=maxlen)"
   ]
  },
  {
   "cell_type": "code",
   "execution_count": 13,
   "metadata": {},
   "outputs": [
    {
     "name": "stdout",
     "output_type": "stream",
     "text": [
      "Training and testing tensor shapes:\n",
      "(1440, 64) (352, 64) (1440, 64) (352, 64) (1440, 64, 7) (352, 64, 7)\n"
     ]
    }
   ],
   "source": [
    "(X_train_f, X_test_f, X_train_b,\n",
    " X_test_b, y_train, y_test) = train_test_split(X_enc_f, X_enc_b, y_enc,\n",
    "                                               test_size=11*32, train_size=45*32, random_state=42)\n",
    "print 'Training and testing tensor shapes:'\n",
    "print X_train_f.shape, X_test_f.shape, X_train_b.shape, X_test_b.shape, y_train.shape, y_test.shape"
   ]
  },
  {
   "cell_type": "code",
   "execution_count": 14,
   "metadata": {
    "collapsed": true
   },
   "outputs": [],
   "source": [
    "max_features = len(word2ind)\n",
    "embedding_size = 128\n",
    "hidden_size = 32\n",
    "out_size = len(label2ind) #+ 1"
   ]
  },
  {
   "cell_type": "code",
   "execution_count": 15,
   "metadata": {
    "collapsed": true
   },
   "outputs": [],
   "source": [
    "model_forward = Sequential()\n",
    "model_forward.add(Embedding(max_features, embedding_size, input_length=maxlen, mask_zero=True))\n",
    "model_forward.add(LSTM(hidden_size, return_sequences=True))  "
   ]
  },
  {
   "cell_type": "code",
   "execution_count": 16,
   "metadata": {},
   "outputs": [],
   "source": [
    "model_backward = Sequential()\n",
    "model_backward.add(Embedding(max_features, embedding_size, input_length=maxlen, mask_zero=True))\n",
    "model_backward.add(LSTM(hidden_size, return_sequences=True))\n",
    "model_backward.add(MaskLambda(function=reverse_func, mask_function=reverse_func))"
   ]
  },
  {
   "cell_type": "code",
   "execution_count": 78,
   "metadata": {},
   "outputs": [],
   "source": [
    "model = Sequential()\n",
    "\n",
    "model.add(Merge([model_forward, model_backward], mode='concat'))\n",
    "model.add(TimeDistributedDense(out_size))\n",
    "model.add(Activation('softmax'))\n",
    "\n",
    "model.compile(loss='categorical_crossentropy', optimizer='adam')"
   ]
  },
  {
   "cell_type": "code",
   "execution_count": 79,
   "metadata": {},
   "outputs": [
    {
     "name": "stdout",
     "output_type": "stream",
     "text": [
      "Train on 1440 samples, validate on 352 samples\n",
      "Epoch 1/30\n",
      "1440/1440 [==============================] - 8s - loss: 0.6634 - val_loss: 0.3467\n",
      "Epoch 2/30\n",
      "1440/1440 [==============================] - 5s - loss: 0.2302 - val_loss: 0.2688\n",
      "Epoch 3/30\n",
      "1440/1440 [==============================] - 5s - loss: 0.1603 - val_loss: 0.2350\n",
      "Epoch 4/30\n",
      "1440/1440 [==============================] - 5s - loss: 0.1262 - val_loss: 0.2210\n",
      "Epoch 5/30\n",
      "1440/1440 [==============================] - 6s - loss: 0.1081 - val_loss: 0.2136\n",
      "Epoch 6/30\n",
      "1440/1440 [==============================] - 5s - loss: 0.0960 - val_loss: 0.2054\n",
      "Epoch 7/30\n",
      "1440/1440 [==============================] - 6s - loss: 0.0861 - val_loss: 0.2006\n",
      "Epoch 8/30\n",
      "1440/1440 [==============================] - 5s - loss: 0.0782 - val_loss: 0.2010\n",
      "Epoch 9/30\n",
      "1440/1440 [==============================] - 6s - loss: 0.0716 - val_loss: 0.1953\n",
      "Epoch 10/30\n",
      "1440/1440 [==============================] - 6s - loss: 0.0663 - val_loss: 0.1960\n",
      "Epoch 11/30\n",
      "1440/1440 [==============================] - 6s - loss: 0.0619 - val_loss: 0.1955\n",
      "Epoch 12/30\n",
      "1440/1440 [==============================] - 5s - loss: 0.0585 - val_loss: 0.1920\n",
      "Epoch 13/30\n",
      "1440/1440 [==============================] - 6s - loss: 0.0559 - val_loss: 0.1911\n",
      "Epoch 14/30\n",
      "1440/1440 [==============================] - 6s - loss: 0.0536 - val_loss: 0.1933\n",
      "Epoch 15/30\n",
      "1440/1440 [==============================] - 5s - loss: 0.0528 - val_loss: 0.1944\n",
      "Epoch 16/30\n",
      "1440/1440 [==============================] - 5s - loss: 0.0507 - val_loss: 0.1922\n",
      "Epoch 17/30\n",
      "1440/1440 [==============================] - 6s - loss: 0.0487 - val_loss: 0.1907\n",
      "Epoch 18/30\n",
      "1440/1440 [==============================] - 6s - loss: 0.0471 - val_loss: 0.1875\n",
      "Epoch 19/30\n",
      "1440/1440 [==============================] - 6s - loss: 0.0458 - val_loss: 0.1892\n",
      "Epoch 20/30\n",
      "1440/1440 [==============================] - 5s - loss: 0.0445 - val_loss: 0.1900\n",
      "Epoch 21/30\n",
      "1440/1440 [==============================] - 6s - loss: 0.0434 - val_loss: 0.1874\n",
      "Epoch 22/30\n",
      "1440/1440 [==============================] - 6s - loss: 0.0423 - val_loss: 0.1878\n",
      "Epoch 23/30\n",
      "1440/1440 [==============================] - 6s - loss: 0.0414 - val_loss: 0.1895\n",
      "Epoch 24/30\n",
      "1440/1440 [==============================] - 6s - loss: 0.0404 - val_loss: 0.1894\n",
      "Epoch 25/30\n",
      "1440/1440 [==============================] - 6s - loss: 0.0396 - val_loss: 0.1870\n",
      "Epoch 26/30\n",
      "1440/1440 [==============================] - 6s - loss: 0.0387 - val_loss: 0.1869\n",
      "Epoch 27/30\n",
      "1440/1440 [==============================] - 6s - loss: 0.0379 - val_loss: 0.1889\n",
      "Epoch 28/30\n",
      "1440/1440 [==============================] - 5s - loss: 0.0375 - val_loss: 0.1851\n",
      "Epoch 29/30\n",
      "1440/1440 [==============================] - 6s - loss: 0.0365 - val_loss: 0.1868\n",
      "Epoch 30/30\n",
      "1440/1440 [==============================] - 6s - loss: 0.0357 - val_loss: 0.1872\n",
      "352/352 [==============================] - 0s     \n",
      "('Raw test score:', 0.18715316463600506)\n"
     ]
    }
   ],
   "source": [
    "batch_size = 64 #32\n",
    "model.fit([X_train_f, X_train_b], y_train, batch_size=batch_size, nb_epoch=30, # started from 40\n",
    "          validation_data=([X_test_f, X_test_b], y_test))\n",
    "score = model.evaluate([X_test_f, X_test_b], y_test, batch_size=batch_size)\n",
    "print('Raw test score:', score)"
   ]
  },
  {
   "cell_type": "code",
   "execution_count": 80,
   "metadata": {},
   "outputs": [
    {
     "name": "stdout",
     "output_type": "stream",
     "text": [
      "1440/1440 [==============================] - 2s     \n",
      "Training accuracy: 0.999458880559\n",
      "Training confusion matrix:\n",
      "[[  366     0     1     0     0     0     0]\n",
      " [    1    34     7     0     0     0     0]\n",
      " [    1     0 82145     0     0     1     4]\n",
      " [    0     0     8    91     0     0     0]\n",
      " [    0     0     2     0    12     0     0]\n",
      " [    1     0    13     0     0   252     0]\n",
      " [    4     0     5     0     0     0  5757]]\n"
     ]
    }
   ],
   "source": [
    "pr = model.predict_classes([X_train_f, X_train_b])\n",
    "yh = y_train.argmax(2)\n",
    "fyh, fpr = score1(yh, pr)\n",
    "print 'Training accuracy:', accuracy_score(fyh, fpr)\n",
    "print 'Training confusion matrix:'\n",
    "print confusion_matrix(fyh, fpr)"
   ]
  },
  {
   "cell_type": "code",
   "execution_count": 81,
   "metadata": {},
   "outputs": [
    {
     "name": "stdout",
     "output_type": "stream",
     "text": [
      "352/352 [==============================] - 0s     \n",
      "Testing accuracy: 0.972151311209\n",
      "Testing confusion matrix:\n",
      "[[   43     0    38     0     0     0     1]\n",
      " [    0     2    11     0     0     0     0]\n",
      " [   19     0 19835     2     0    14    70]\n",
      " [    1     0    22    11     1     0     0]\n",
      " [    0     0     0     0     3     0     0]\n",
      " [    0     0    29     0     0     9     0]\n",
      " [    3     0   389     0     0     0  1042]]\n"
     ]
    }
   ],
   "source": [
    "pr = model.predict_classes([X_test_f, X_test_b])\n",
    "yh = y_test.argmax(2)\n",
    "fyh, fpr = score1(yh, pr)\n",
    "print 'Testing accuracy:', accuracy_score(fyh, fpr)\n",
    "print 'Testing confusion matrix:'\n",
    "print confusion_matrix(fyh, fpr)"
   ]
  },
  {
   "cell_type": "code",
   "execution_count": 82,
   "metadata": {},
   "outputs": [
    {
     "data": {
      "text/plain": [
       "{0: 'Severity',\n",
       " 1: 'Negation',\n",
       " 2: 'O',\n",
       " 3: 'DrugClass',\n",
       " 4: 'Animal',\n",
       " 5: 'Factor',\n",
       " 6: 'AdverseReaction'}"
      ]
     },
     "execution_count": 82,
     "metadata": {},
     "output_type": "execute_result"
    }
   ],
   "source": [
    "ind2label"
   ]
  },
  {
   "cell_type": "markdown",
   "metadata": {},
   "source": [
    "# Label the predictions"
   ]
  },
  {
   "cell_type": "code",
   "execution_count": 86,
   "metadata": {},
   "outputs": [
    {
     "name": "stdout",
     "output_type": "stream",
     "text": [
      "(1, 64) (1, 64)\n"
     ]
    }
   ],
   "source": [
    "doc = \"Classical HL post-auto-HSCT consolidation: neutropenia, peripheral sensory neuropathy, thrombocytopenia, anemia, upper respiratory tract infection, fatigue, peripheral motor neuropathy, nausea, cough, and diarrhea.\"\n",
    "x_new = [[m.group(0) for m in re.finditer(r'\\w+', doc)]] # tokenize words only\n",
    "\n",
    "X_new = [[word2ind[c] for c in x] for x in x_new]\n",
    "X_new_reverse = [[c for c in reversed(x)] for x in X_new]\n",
    "X_new_f = pad_sequences(X_new, maxlen=maxlen)\n",
    "X_new_b = pad_sequences(X_new_reverse, maxlen=maxlen)\n",
    "print X_new_f.shape, X_new_b.shape"
   ]
  },
  {
   "cell_type": "code",
   "execution_count": 87,
   "metadata": {},
   "outputs": [
    {
     "name": "stdout",
     "output_type": "stream",
     "text": [
      "1/1 [==============================] - 0s\n"
     ]
    },
    {
     "data": {
      "text/plain": [
       "array([[2, 2, 2, 2, 2, 6, 6, 6, 6, 6, 6, 2, 2, 2, 2, 6, 6, 6, 2, 6, 6, 6,\n",
       "        0, 6, 0, 0, 0, 0, 0, 0, 0, 0, 0, 0, 0, 0, 0, 0, 0, 0, 2, 2, 2, 2,\n",
       "        2, 2, 2, 2, 6, 2, 2, 6, 2, 2, 2, 2, 2, 2, 2, 2, 6, 6, 2, 2]])"
      ]
     },
     "execution_count": 87,
     "metadata": {},
     "output_type": "execute_result"
    }
   ],
   "source": [
    "pr = model.predict_classes([X_new_f, X_new_b])\n",
    "pr"
   ]
  },
  {
   "cell_type": "code",
   "execution_count": 88,
   "metadata": {},
   "outputs": [
    {
     "name": "stdout",
     "output_type": "stream",
     "text": [
      "Classical O\n",
      "HL O\n",
      "post O\n",
      "auto O\n",
      "HSCT O\n",
      "consolidation O\n",
      "neutropenia O\n",
      "peripheral O\n",
      "sensory AdverseReaction\n",
      "neuropathy O\n",
      "thrombocytopenia O\n",
      "anemia AdverseReaction\n",
      "upper O\n",
      "respiratory O\n",
      "tract O\n",
      "infection O\n",
      "fatigue O\n",
      "peripheral O\n",
      "motor O\n",
      "neuropathy O\n",
      "nausea AdverseReaction\n",
      "cough AdverseReaction\n",
      "and O\n",
      "diarrhea O\n"
     ]
    }
   ],
   "source": [
    "for w, p in zip(x_new[0], pr.tolist()[0][-len(X_new[0]):]):\n",
    "    print w, ind2label[p]"
   ]
  },
  {
   "cell_type": "markdown",
   "metadata": {},
   "source": [
    "### Issues:\n",
    "* Cannot identify names with more than one word (how?)\n",
    "* Two classes are missing in training data (why?)\n",
    "* How to calculate and improve F1 score? Overfitting? How to tune parameters?\n",
    "* Imbalanced dataset?"
   ]
  },
  {
   "cell_type": "markdown",
   "metadata": {},
   "source": [
    "# Write submission file"
   ]
  },
  {
   "cell_type": "markdown",
   "metadata": {},
   "source": [
    "https://bionlp.nlm.nih.gov/tac2017adversereactions/"
   ]
  },
  {
   "cell_type": "code",
   "execution_count": null,
   "metadata": {
    "collapsed": true
   },
   "outputs": [],
   "source": []
  }
 ],
 "metadata": {
  "kernelspec": {
   "display_name": "Python 2",
   "language": "python",
   "name": "python2"
  },
  "language_info": {
   "codemirror_mode": {
    "name": "ipython",
    "version": 2
   },
   "file_extension": ".py",
   "mimetype": "text/x-python",
   "name": "python",
   "nbconvert_exporter": "python",
   "pygments_lexer": "ipython2",
   "version": "2.7.13"
  }
 },
 "nbformat": 4,
 "nbformat_minor": 2
}
