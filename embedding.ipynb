{
 "cells": [
  {
   "cell_type": "markdown",
   "metadata": {},
   "source": [
    "https://gist.github.com/dirko/1d596ca757a541da96ac3caa6f291229\n",
    "\n",
    "http://dirko.github.io/Bidirectional-LSTMs-with-Keras/"
   ]
  },
  {
   "cell_type": "code",
   "execution_count": 1,
   "metadata": {},
   "outputs": [
    {
     "name": "stderr",
     "output_type": "stream",
     "text": [
      "Using TensorFlow backend.\n",
      "/Users/jzhu/anaconda2/lib/python2.7/site-packages/sklearn/cross_validation.py:44: DeprecationWarning: This module was deprecated in version 0.18 in favor of the model_selection module into which all the refactored classes and functions are moved. Also note that the interface of the new CV iterators are different from that of this module. This module will be removed in 0.20.\n",
      "  \"This module will be removed in 0.20.\", DeprecationWarning)\n"
     ]
    }
   ],
   "source": [
    "# author: Keras==1.0.6\n",
    "# mine: Keras==1.2.1\n",
    "import numpy as np\n",
    "import re\n",
    "\n",
    "from keras.models import Sequential\n",
    "from keras.layers.recurrent import LSTM\n",
    "from keras.layers.core import TimeDistributedDense, Activation\n",
    "from keras.preprocessing.sequence import pad_sequences\n",
    "from keras.layers.embeddings import Embedding\n",
    "from keras.layers import Merge\n",
    "from keras.backend import tf\n",
    "\n",
    "from sklearn.metrics import confusion_matrix, accuracy_score\n",
    "from sklearn.cross_validation import train_test_split\n",
    "\n",
    "from lambdawithmask import Lambda as MaskLambda"
   ]
  },
  {
   "cell_type": "code",
   "execution_count": 2,
   "metadata": {
    "collapsed": true
   },
   "outputs": [],
   "source": [
    "def encode(x, n):\n",
    "    result = np.zeros(n)\n",
    "    result[x] = 1\n",
    "    return result\n",
    "\n",
    "def chunks(l, n):\n",
    "    \"\"\"Yield successive n-sized chunks from l.\"\"\"\n",
    "    for i in range(0, len(l), n):\n",
    "        yield l[i:i + n]\n",
    "        \n",
    "def reverse_func(x, mask=None):\n",
    "    return tf.reverse(x, [False, True, False])\n",
    "\n",
    "def score1(yh, pr):\n",
    "    coords = [np.where(yhh > 0)[0][0] for yhh in yh]\n",
    "    yh = [yhh[co:] for yhh, co in zip(yh, coords)]\n",
    "    ypr = [prr[co:] for prr, co in zip(pr, coords)]\n",
    "    fyh = [c for row in yh for c in row]\n",
    "    fpr = [c for row in ypr for c in row]\n",
    "    return fyh, fpr"
   ]
  },
  {
   "cell_type": "code",
   "execution_count": 3,
   "metadata": {},
   "outputs": [],
   "source": [
    "raw = open('train.csv', 'r').readlines()\n",
    "all_x = []\n",
    "point = []\n",
    "for line in raw:\n",
    "    stripped_line = line.strip().split(',')\n",
    "    point.append(stripped_line)\n",
    "    if line == '\"\"\\r\\n':\n",
    "#         print \"newline\"\n",
    "        all_x.append(point[:-1])\n",
    "        point = []\n",
    "all_x = all_x[:-1]\n",
    "lengths = [len(x) for x in all_x]\n",
    "# short_x = [x for x in all_x if len(x) < 64]\n",
    "\n",
    "# split long sections into chucks (a mimic of sentences)\n",
    "short_x = []\n",
    "for l in all_x:\n",
    "    short_x.extend(chunks(l, 64))"
   ]
  },
  {
   "cell_type": "code",
   "execution_count": 4,
   "metadata": {},
   "outputs": [
    {
     "data": {
      "text/plain": [
       "3428"
      ]
     },
     "execution_count": 4,
     "metadata": {},
     "output_type": "execute_result"
    }
   ],
   "source": [
    "len(short_x)"
   ]
  },
  {
   "cell_type": "code",
   "execution_count": 5,
   "metadata": {},
   "outputs": [],
   "source": [
    "X = [[c[0] for c in x] for x in short_x]\n",
    "y = [[c[1] for c in y] for y in short_x]"
   ]
  },
  {
   "cell_type": "code",
   "execution_count": 6,
   "metadata": {},
   "outputs": [
    {
     "name": "stdout",
     "output_type": "stream",
     "text": [
      "Input sequence length range:  4741 58\n"
     ]
    }
   ],
   "source": [
    "all_text = [c for x in X for c in x]\n",
    "words = list(set(all_text))\n",
    "word2ind = {word: index for index, word in enumerate(words)}\n",
    "ind2word = {index: word for index, word in enumerate(words)}\n",
    "labels = list(set([c for x in y for c in x]))\n",
    "# label2ind = {label: (index + 1) for index, label in enumerate(labels)}\n",
    "# ind2label = {(index + 1): label for index, label in enumerate(labels)}\n",
    "label2ind = {label: (index) for index, label in enumerate(labels)}\n",
    "ind2label = {(index): label for index, label in enumerate(labels)}\n",
    "print 'Input sequence length range: ', max(lengths), min(lengths)"
   ]
  },
  {
   "cell_type": "code",
   "execution_count": 7,
   "metadata": {},
   "outputs": [
    {
     "data": {
      "text/plain": [
       "{0: 'Severity',\n",
       " 1: 'Negation',\n",
       " 2: 'O',\n",
       " 3: 'DrugClass',\n",
       " 4: 'Animal',\n",
       " 5: 'Factor',\n",
       " 6: 'AdverseReaction'}"
      ]
     },
     "execution_count": 7,
     "metadata": {},
     "output_type": "execute_result"
    }
   ],
   "source": [
    "ind2label"
   ]
  },
  {
   "cell_type": "code",
   "execution_count": 8,
   "metadata": {},
   "outputs": [
    {
     "name": "stdout",
     "output_type": "stream",
     "text": [
      "Maximum sequence length: 64\n"
     ]
    }
   ],
   "source": [
    "maxlen = max([len(x) for x in X])\n",
    "print 'Maximum sequence length:', maxlen"
   ]
  },
  {
   "cell_type": "code",
   "execution_count": 9,
   "metadata": {},
   "outputs": [],
   "source": [
    "X_enc = [[word2ind[c] for c in x] for x in X]\n",
    "X_enc_reverse = [[c for c in reversed(x)] for x in X_enc]\n",
    "max_label = max(label2ind.values()) + 1\n",
    "# max_label = max(label2ind.values())\n",
    "y_enc = [[0] * (maxlen - len(ey)) + [label2ind[c] for c in ey] for ey in y]\n",
    "y_enc = [[encode(c, max_label) for c in ey] for ey in y_enc]"
   ]
  },
  {
   "cell_type": "code",
   "execution_count": 10,
   "metadata": {},
   "outputs": [
    {
     "data": {
      "text/plain": [
       "7"
      ]
     },
     "execution_count": 10,
     "metadata": {},
     "output_type": "execute_result"
    }
   ],
   "source": [
    "max_label"
   ]
  },
  {
   "cell_type": "code",
   "execution_count": 11,
   "metadata": {},
   "outputs": [
    {
     "data": {
      "text/plain": [
       "array([ 0.,  0.,  1.,  0.,  0.,  0.,  0.])"
      ]
     },
     "execution_count": 11,
     "metadata": {},
     "output_type": "execute_result"
    }
   ],
   "source": [
    "y_enc[0][0]"
   ]
  },
  {
   "cell_type": "code",
   "execution_count": 12,
   "metadata": {
    "collapsed": true
   },
   "outputs": [],
   "source": [
    "X_enc_f = pad_sequences(X_enc, maxlen=maxlen)\n",
    "X_enc_b = pad_sequences(X_enc_reverse, maxlen=maxlen)\n",
    "y_enc = pad_sequences(y_enc, maxlen=maxlen)"
   ]
  },
  {
   "cell_type": "code",
   "execution_count": 13,
   "metadata": {},
   "outputs": [
    {
     "name": "stdout",
     "output_type": "stream",
     "text": [
      "Training and testing tensor shapes:\n",
      "(1440, 64) (352, 64) (1440, 64) (352, 64) (1440, 64, 7) (352, 64, 7)\n"
     ]
    }
   ],
   "source": [
    "(X_train_f, X_test_f, X_train_b,\n",
    " X_test_b, y_train, y_test) = train_test_split(X_enc_f, X_enc_b, y_enc,\n",
    "                                               test_size=11*32, train_size=45*32, random_state=42)\n",
    "print 'Training and testing tensor shapes:'\n",
    "print X_train_f.shape, X_test_f.shape, X_train_b.shape, X_test_b.shape, y_train.shape, y_test.shape"
   ]
  },
  {
   "cell_type": "code",
   "execution_count": 14,
   "metadata": {
    "collapsed": true
   },
   "outputs": [],
   "source": [
    "max_features = len(word2ind)\n",
    "embedding_size = 128\n",
    "hidden_size = 32\n",
    "out_size = len(label2ind) #+ 1"
   ]
  },
  {
   "cell_type": "code",
   "execution_count": 15,
   "metadata": {
    "collapsed": true
   },
   "outputs": [],
   "source": [
    "model_forward = Sequential()\n",
    "model_forward.add(Embedding(max_features, embedding_size, input_length=maxlen, mask_zero=True))\n",
    "model_forward.add(LSTM(hidden_size, return_sequences=True))  "
   ]
  },
  {
   "cell_type": "code",
   "execution_count": 16,
   "metadata": {},
   "outputs": [],
   "source": [
    "model_backward = Sequential()\n",
    "model_backward.add(Embedding(max_features, embedding_size, input_length=maxlen, mask_zero=True))\n",
    "model_backward.add(LSTM(hidden_size, return_sequences=True))\n",
    "model_backward.add(MaskLambda(function=reverse_func, mask_function=reverse_func))"
   ]
  },
  {
   "cell_type": "code",
   "execution_count": 17,
   "metadata": {},
   "outputs": [
    {
     "name": "stderr",
     "output_type": "stream",
     "text": [
      "/Users/jzhu/anaconda2/lib/python2.7/site-packages/keras/layers/core.py:1205: UserWarning: `TimeDistributedDense` is deprecated, And will be removed on May 1st, 2017. Please use a `Dense` layer instead.\n",
      "  warnings.warn('`TimeDistributedDense` is deprecated, '\n"
     ]
    }
   ],
   "source": [
    "model = Sequential()\n",
    "\n",
    "model.add(Merge([model_forward, model_backward], mode='concat'))\n",
    "model.add(TimeDistributedDense(out_size))\n",
    "model.add(Activation('softmax'))\n",
    "\n",
    "model.compile(loss='categorical_crossentropy', optimizer='adam')"
   ]
  },
  {
   "cell_type": "code",
   "execution_count": 19,
   "metadata": {},
   "outputs": [
    {
     "name": "stdout",
     "output_type": "stream",
     "text": [
      "Train on 1440 samples, validate on 352 samples\n",
      "Epoch 1/100\n",
      "1440/1440 [==============================] - 11s - loss: 0.0376 - val_loss: 0.1632\n",
      "Epoch 2/100\n",
      "1440/1440 [==============================] - 10s - loss: 0.0364 - val_loss: 0.1669\n",
      "Epoch 3/100\n",
      "1440/1440 [==============================] - 10s - loss: 0.0353 - val_loss: 0.1608\n",
      "Epoch 4/100\n",
      "1440/1440 [==============================] - 10s - loss: 0.0343 - val_loss: 0.1693\n",
      "Epoch 5/100\n",
      "1440/1440 [==============================] - 10s - loss: 0.0334 - val_loss: 0.1587\n",
      "Epoch 6/100\n",
      "1440/1440 [==============================] - 10s - loss: 0.0325 - val_loss: 0.1687\n",
      "Epoch 7/100\n",
      "1440/1440 [==============================] - 10s - loss: 0.0316 - val_loss: 0.1760\n",
      "Epoch 8/100\n",
      "1440/1440 [==============================] - 10s - loss: 0.0309 - val_loss: 0.1745\n",
      "Epoch 9/100\n",
      "1440/1440 [==============================] - 10s - loss: 0.0302 - val_loss: 0.1718\n",
      "Epoch 10/100\n",
      "1440/1440 [==============================] - 10s - loss: 0.0292 - val_loss: 0.1722\n",
      "Epoch 11/100\n",
      "1440/1440 [==============================] - 10s - loss: 0.0284 - val_loss: 0.1748\n",
      "Epoch 12/100\n",
      "1440/1440 [==============================] - 10s - loss: 0.0277 - val_loss: 0.1724\n",
      "Epoch 13/100\n",
      "1440/1440 [==============================] - 10s - loss: 0.0270 - val_loss: 0.1709\n",
      "Epoch 14/100\n",
      "1440/1440 [==============================] - 10s - loss: 0.0264 - val_loss: 0.1745\n",
      "Epoch 15/100\n",
      "1440/1440 [==============================] - 10s - loss: 0.0258 - val_loss: 0.1813\n",
      "Epoch 16/100\n",
      "1440/1440 [==============================] - 10s - loss: 0.0252 - val_loss: 0.1722\n",
      "Epoch 17/100\n",
      "1440/1440 [==============================] - 10s - loss: 0.0246 - val_loss: 0.1746\n",
      "Epoch 18/100\n",
      "1440/1440 [==============================] - 10s - loss: 0.0241 - val_loss: 0.1757\n",
      "Epoch 19/100\n",
      "1440/1440 [==============================] - 10s - loss: 0.0235 - val_loss: 0.1713\n",
      "Epoch 20/100\n",
      "1440/1440 [==============================] - 10s - loss: 0.0231 - val_loss: 0.1766\n",
      "Epoch 21/100\n",
      "1440/1440 [==============================] - 10s - loss: 0.0225 - val_loss: 0.1761\n",
      "Epoch 22/100\n",
      "1440/1440 [==============================] - 10s - loss: 0.0222 - val_loss: 0.1779\n",
      "Epoch 23/100\n",
      "1440/1440 [==============================] - 10s - loss: 0.0218 - val_loss: 0.1664\n",
      "Epoch 24/100\n",
      "1440/1440 [==============================] - 10s - loss: 0.0213 - val_loss: 0.1671\n",
      "Epoch 25/100\n",
      "1440/1440 [==============================] - 10s - loss: 0.0206 - val_loss: 0.1911\n",
      "Epoch 26/100\n",
      "1440/1440 [==============================] - 10s - loss: 0.0204 - val_loss: 0.1859\n",
      "Epoch 27/100\n",
      "1440/1440 [==============================] - 10s - loss: 0.0197 - val_loss: 0.1715\n",
      "Epoch 28/100\n",
      "1440/1440 [==============================] - 11s - loss: 0.0189 - val_loss: 0.1784\n",
      "Epoch 29/100\n",
      "1440/1440 [==============================] - 11s - loss: 0.0183 - val_loss: 0.1825\n",
      "Epoch 30/100\n",
      "1440/1440 [==============================] - 10s - loss: 0.0178 - val_loss: 0.1795\n",
      "Epoch 31/100\n",
      "1440/1440 [==============================] - 10s - loss: 0.0174 - val_loss: 0.1796\n",
      "Epoch 32/100\n",
      "1440/1440 [==============================] - 10s - loss: 0.0170 - val_loss: 0.1833\n",
      "Epoch 33/100\n",
      "1440/1440 [==============================] - 10s - loss: 0.0165 - val_loss: 0.1835\n",
      "Epoch 34/100\n",
      "1440/1440 [==============================] - 10s - loss: 0.0161 - val_loss: 0.1832\n",
      "Epoch 35/100\n",
      "1440/1440 [==============================] - 10s - loss: 0.0157 - val_loss: 0.1848\n",
      "Epoch 36/100\n",
      "1440/1440 [==============================] - 10s - loss: 0.0153 - val_loss: 0.1847\n",
      "Epoch 37/100\n",
      "1440/1440 [==============================] - 10s - loss: 0.0150 - val_loss: 0.1868\n",
      "Epoch 38/100\n",
      "1440/1440 [==============================] - 10s - loss: 0.0146 - val_loss: 0.1848\n",
      "Epoch 39/100\n",
      "1440/1440 [==============================] - 10s - loss: 0.0142 - val_loss: 0.1864\n",
      "Epoch 40/100\n",
      "1440/1440 [==============================] - 10s - loss: 0.0139 - val_loss: 0.1863\n",
      "Epoch 41/100\n",
      "1440/1440 [==============================] - 10s - loss: 0.0135 - val_loss: 0.1864\n",
      "Epoch 42/100\n",
      "1440/1440 [==============================] - 10s - loss: 0.0132 - val_loss: 0.1874\n",
      "Epoch 43/100\n",
      "1440/1440 [==============================] - 10s - loss: 0.0129 - val_loss: 0.1879\n",
      "Epoch 44/100\n",
      "1440/1440 [==============================] - 10s - loss: 0.0126 - val_loss: 0.1833\n",
      "Epoch 45/100\n",
      "1440/1440 [==============================] - 10s - loss: 0.0123 - val_loss: 0.1817\n",
      "Epoch 46/100\n",
      "1440/1440 [==============================] - 10s - loss: 0.0120 - val_loss: 0.1874\n",
      "Epoch 47/100\n",
      "1440/1440 [==============================] - 10s - loss: 0.0118 - val_loss: 0.1864\n",
      "Epoch 48/100\n",
      "1440/1440 [==============================] - 10s - loss: 0.0122 - val_loss: 0.2155\n",
      "Epoch 49/100\n",
      "1440/1440 [==============================] - 10s - loss: 0.0143 - val_loss: 0.1766\n",
      "Epoch 50/100\n",
      "1440/1440 [==============================] - 11s - loss: 0.0132 - val_loss: 0.1749\n",
      "Epoch 51/100\n",
      "1440/1440 [==============================] - 11s - loss: 0.0117 - val_loss: 0.1696\n",
      "Epoch 52/100\n",
      "1440/1440 [==============================] - 11s - loss: 0.0108 - val_loss: 0.1698\n",
      "Epoch 53/100\n",
      "1440/1440 [==============================] - 10s - loss: 0.0102 - val_loss: 0.1707\n",
      "Epoch 54/100\n",
      "1440/1440 [==============================] - 10s - loss: 0.0099 - val_loss: 0.1767\n",
      "Epoch 55/100\n",
      "1440/1440 [==============================] - 10s - loss: 0.0096 - val_loss: 0.1752\n",
      "Epoch 56/100\n",
      "1440/1440 [==============================] - 10s - loss: 0.0093 - val_loss: 0.1777\n",
      "Epoch 57/100\n",
      "1440/1440 [==============================] - 10s - loss: 0.0091 - val_loss: 0.1785\n",
      "Epoch 58/100\n",
      "1440/1440 [==============================] - 10s - loss: 0.0088 - val_loss: 0.1790\n",
      "Epoch 59/100\n",
      "1440/1440 [==============================] - 10s - loss: 0.0086 - val_loss: 0.1798\n",
      "Epoch 60/100\n",
      "1440/1440 [==============================] - 10s - loss: 0.0084 - val_loss: 0.1806\n",
      "Epoch 61/100\n",
      "1440/1440 [==============================] - 10s - loss: 0.0082 - val_loss: 0.1809\n",
      "Epoch 62/100\n",
      "1440/1440 [==============================] - 10s - loss: 0.0080 - val_loss: 0.1806\n",
      "Epoch 63/100\n",
      "1440/1440 [==============================] - 10s - loss: 0.0078 - val_loss: 0.1820\n",
      "Epoch 64/100\n",
      "1440/1440 [==============================] - 10s - loss: 0.0076 - val_loss: 0.1823\n",
      "Epoch 65/100\n",
      "1440/1440 [==============================] - 10s - loss: 0.0074 - val_loss: 0.1829\n",
      "Epoch 66/100\n",
      "1440/1440 [==============================] - 10s - loss: 0.0072 - val_loss: 0.1827\n",
      "Epoch 67/100\n",
      "1440/1440 [==============================] - 10s - loss: 0.0070 - val_loss: 0.1828\n",
      "Epoch 68/100\n",
      "1440/1440 [==============================] - 10s - loss: 0.0069 - val_loss: 0.1836\n",
      "Epoch 69/100\n",
      "1440/1440 [==============================] - 10s - loss: 0.0067 - val_loss: 0.1835\n",
      "Epoch 70/100\n",
      "1440/1440 [==============================] - 10s - loss: 0.0065 - val_loss: 0.1836\n",
      "Epoch 71/100\n",
      "1440/1440 [==============================] - 10s - loss: 0.0064 - val_loss: 0.1846\n",
      "Epoch 72/100\n",
      "1440/1440 [==============================] - 10s - loss: 0.0062 - val_loss: 0.1849\n",
      "Epoch 73/100\n",
      "1440/1440 [==============================] - 10s - loss: 0.0060 - val_loss: 0.1851\n",
      "Epoch 74/100\n",
      "1440/1440 [==============================] - 10s - loss: 0.0059 - val_loss: 0.1856\n",
      "Epoch 75/100\n",
      "1440/1440 [==============================] - 10s - loss: 0.0058 - val_loss: 0.1856\n",
      "Epoch 76/100\n",
      "1440/1440 [==============================] - 10s - loss: 0.0056 - val_loss: 0.1862\n",
      "Epoch 77/100\n",
      "1440/1440 [==============================] - 10s - loss: 0.0055 - val_loss: 0.1866\n",
      "Epoch 78/100\n",
      "1440/1440 [==============================] - 10s - loss: 0.0053 - val_loss: 0.1862\n",
      "Epoch 79/100\n",
      "1440/1440 [==============================] - 10s - loss: 0.0052 - val_loss: 0.1870\n",
      "Epoch 80/100\n",
      "1440/1440 [==============================] - 10s - loss: 0.0051 - val_loss: 0.1876\n",
      "Epoch 81/100\n",
      "1440/1440 [==============================] - 10s - loss: 0.0050 - val_loss: 0.1875\n",
      "Epoch 82/100\n",
      "1440/1440 [==============================] - 10s - loss: 0.0048 - val_loss: 0.1879\n",
      "Epoch 83/100\n",
      "1440/1440 [==============================] - 10s - loss: 0.0047 - val_loss: 0.1877\n",
      "Epoch 84/100\n",
      "1440/1440 [==============================] - 10s - loss: 0.0046 - val_loss: 0.1886\n",
      "Epoch 85/100\n"
     ]
    },
    {
     "name": "stdout",
     "output_type": "stream",
     "text": [
      "1440/1440 [==============================] - 10s - loss: 0.0045 - val_loss: 0.1891\n",
      "Epoch 86/100\n",
      "1440/1440 [==============================] - 10s - loss: 0.0044 - val_loss: 0.1891\n",
      "Epoch 87/100\n",
      "1440/1440 [==============================] - 10s - loss: 0.0043 - val_loss: 0.1892\n",
      "Epoch 88/100\n",
      "1440/1440 [==============================] - 10s - loss: 0.0042 - val_loss: 0.1900\n",
      "Epoch 89/100\n",
      "1440/1440 [==============================] - 10s - loss: 0.0041 - val_loss: 0.1898\n",
      "Epoch 90/100\n",
      "1440/1440 [==============================] - 10s - loss: 0.0040 - val_loss: 0.1898\n",
      "Epoch 91/100\n",
      "1440/1440 [==============================] - 10s - loss: 0.0039 - val_loss: 0.1904\n",
      "Epoch 92/100\n",
      "1440/1440 [==============================] - 10s - loss: 0.0038 - val_loss: 0.1892\n",
      "Epoch 93/100\n",
      "1440/1440 [==============================] - 10s - loss: 0.0037 - val_loss: 0.1914\n",
      "Epoch 94/100\n",
      "1440/1440 [==============================] - 10s - loss: 0.0036 - val_loss: 0.1906\n",
      "Epoch 95/100\n",
      "1440/1440 [==============================] - 10s - loss: 0.0035 - val_loss: 0.1918\n",
      "Epoch 96/100\n",
      "1440/1440 [==============================] - 10s - loss: 0.0034 - val_loss: 0.1918\n",
      "Epoch 97/100\n",
      "1440/1440 [==============================] - 10s - loss: 0.0034 - val_loss: 0.1921\n",
      "Epoch 98/100\n",
      "1440/1440 [==============================] - 10s - loss: 0.0033 - val_loss: 0.1921\n",
      "Epoch 99/100\n",
      "1440/1440 [==============================] - 10s - loss: 0.0032 - val_loss: 0.1923\n",
      "Epoch 100/100\n",
      "1440/1440 [==============================] - 10s - loss: 0.0031 - val_loss: 0.1926\n",
      "352/352 [==============================] - 0s     \n",
      "('Raw test score:', 0.19262054291638461)\n"
     ]
    }
   ],
   "source": [
    "batch_size = 32\n",
    "model.fit([X_train_f, X_train_b], y_train, batch_size=batch_size, nb_epoch=100, # started from 40\n",
    "          validation_data=([X_test_f, X_test_b], y_test))\n",
    "score = model.evaluate([X_test_f, X_test_b], y_test, batch_size=batch_size)\n",
    "print('Raw test score:', score)"
   ]
  },
  {
   "cell_type": "code",
   "execution_count": 20,
   "metadata": {},
   "outputs": [
    {
     "name": "stdout",
     "output_type": "stream",
     "text": [
      "1440/1440 [==============================] - 1s     \n",
      "Training accuracy: 1.0\n",
      "Training confusion matrix:\n",
      "[[  367     0     0     0     0     0     0]\n",
      " [    0    42     0     0     0     0     0]\n",
      " [    0     0 82151     0     0     0     0]\n",
      " [    0     0     0    99     0     0     0]\n",
      " [    0     0     0     0    14     0     0]\n",
      " [    0     0     0     0     0   266     0]\n",
      " [    0     0     0     0     0     0  5766]]\n"
     ]
    }
   ],
   "source": [
    "pr = model.predict_classes([X_train_f, X_train_b])\n",
    "yh = y_train.argmax(2)\n",
    "fyh, fpr = score1(yh, pr)\n",
    "print 'Training accuracy:', accuracy_score(fyh, fpr)\n",
    "print 'Training confusion matrix:'\n",
    "print confusion_matrix(fyh, fpr)"
   ]
  },
  {
   "cell_type": "code",
   "execution_count": 21,
   "metadata": {},
   "outputs": [
    {
     "name": "stdout",
     "output_type": "stream",
     "text": [
      "352/352 [==============================] - 0s     \n",
      "Testing accuracy: 0.971455093989\n",
      "Testing confusion matrix:\n",
      "[[   51     0    26     0     0     0     5]\n",
      " [    0     2    11     0     0     0     0]\n",
      " [   42     1 19758     6     0    22   111]\n",
      " [    2     0    19    13     0     0     1]\n",
      " [    0     0     1     0     2     0     0]\n",
      " [    0     0    27     0     0    11     0]\n",
      " [   13     0   328     0     0     0  1093]]\n"
     ]
    }
   ],
   "source": [
    "pr = model.predict_classes([X_test_f, X_test_b])\n",
    "yh = y_test.argmax(2)\n",
    "fyh, fpr = score1(yh, pr)\n",
    "print 'Testing accuracy:', accuracy_score(fyh, fpr)\n",
    "print 'Testing confusion matrix:'\n",
    "print confusion_matrix(fyh, fpr)"
   ]
  },
  {
   "cell_type": "code",
   "execution_count": 22,
   "metadata": {},
   "outputs": [
    {
     "data": {
      "text/plain": [
       "{0: 'Severity',\n",
       " 1: 'Negation',\n",
       " 2: 'O',\n",
       " 3: 'DrugClass',\n",
       " 4: 'Animal',\n",
       " 5: 'Factor',\n",
       " 6: 'AdverseReaction'}"
      ]
     },
     "execution_count": 22,
     "metadata": {},
     "output_type": "execute_result"
    }
   ],
   "source": [
    "ind2label"
   ]
  },
  {
   "cell_type": "markdown",
   "metadata": {},
   "source": [
    "# Label the predictions"
   ]
  },
  {
   "cell_type": "code",
   "execution_count": 27,
   "metadata": {},
   "outputs": [
    {
     "name": "stdout",
     "output_type": "stream",
     "text": [
      "(1, 64) (1, 64)\n"
     ]
    }
   ],
   "source": [
    "doc = \"Classical HL post-auto-HSCT consolidation: neutropenia, peripheral sensory neuropathy, thrombocytopenia, anemia, upper respiratory tract infection, fatigue, peripheral motor neuropathy, nausea, cough, and diarrhea.\"\n",
    "x_new = [[m.group(0) for m in re.finditer(r'\\w+', doc)]] # tokenize words only\n",
    "\n",
    "X_new = [[word2ind[c] for c in x] for x in x_new]\n",
    "X_new_reverse = [[c for c in reversed(x)] for x in X_new]\n",
    "X_new_f = pad_sequences(X_new, maxlen=maxlen)\n",
    "X_new_b = pad_sequences(X_new_reverse, maxlen=maxlen)\n",
    "print X_new_f.shape, X_new_b.shape"
   ]
  },
  {
   "cell_type": "code",
   "execution_count": 24,
   "metadata": {},
   "outputs": [
    {
     "name": "stdout",
     "output_type": "stream",
     "text": [
      "1/1 [==============================] - 0s\n"
     ]
    },
    {
     "data": {
      "text/plain": [
       "array([[0, 0, 0, 0, 0, 0, 0, 0, 0, 0, 0, 0, 0, 0, 0, 0, 6, 0, 0, 6, 6, 0,\n",
       "        0, 0, 0, 0, 0, 0, 0, 0, 0, 0, 0, 0, 0, 0, 0, 0, 0, 0, 2, 2, 2, 2,\n",
       "        2, 2, 2, 6, 6, 6, 6, 6, 2, 2, 2, 2, 6, 6, 2, 2, 2, 6, 2, 2]])"
      ]
     },
     "execution_count": 24,
     "metadata": {},
     "output_type": "execute_result"
    }
   ],
   "source": [
    "pr = model.predict_classes([X_new_f, X_new_b])\n",
    "pr"
   ]
  },
  {
   "cell_type": "code",
   "execution_count": 39,
   "metadata": {},
   "outputs": [
    {
     "name": "stdout",
     "output_type": "stream",
     "text": [
      "Classical O\n",
      "HL O\n",
      "post O\n",
      "auto O\n",
      "HSCT O\n",
      "consolidation O\n",
      "neutropenia O\n",
      "peripheral AdverseReaction\n",
      "sensory AdverseReaction\n",
      "neuropathy AdverseReaction\n",
      "thrombocytopenia AdverseReaction\n",
      "anemia AdverseReaction\n",
      "upper O\n",
      "respiratory O\n",
      "tract O\n",
      "infection O\n",
      "fatigue AdverseReaction\n",
      "peripheral AdverseReaction\n",
      "motor O\n",
      "neuropathy O\n",
      "nausea O\n",
      "cough AdverseReaction\n",
      "and O\n",
      "diarrhea O\n"
     ]
    }
   ],
   "source": [
    "for w, p in zip(x_new[0], pr.tolist()[0][-len(X_new[0]):]):\n",
    "    print w, ind2label[p]"
   ]
  },
  {
   "cell_type": "markdown",
   "metadata": {},
   "source": [
    "### Issues:\n",
    "* Cannot identify names with more than one word (how:)\n",
    "* Two classes are missing in training data (why?)\n",
    "* How to calculate and improve F1 score? Overfitting?"
   ]
  },
  {
   "cell_type": "markdown",
   "metadata": {},
   "source": [
    "# Write submission file"
   ]
  },
  {
   "cell_type": "markdown",
   "metadata": {},
   "source": [
    "https://bionlp.nlm.nih.gov/tac2017adversereactions/"
   ]
  },
  {
   "cell_type": "code",
   "execution_count": null,
   "metadata": {
    "collapsed": true
   },
   "outputs": [],
   "source": []
  }
 ],
 "metadata": {
  "kernelspec": {
   "display_name": "Python 2",
   "language": "python",
   "name": "python2"
  },
  "language_info": {
   "codemirror_mode": {
    "name": "ipython",
    "version": 2
   },
   "file_extension": ".py",
   "mimetype": "text/x-python",
   "name": "python",
   "nbconvert_exporter": "python",
   "pygments_lexer": "ipython2",
   "version": "2.7.13"
  }
 },
 "nbformat": 4,
 "nbformat_minor": 2
}
